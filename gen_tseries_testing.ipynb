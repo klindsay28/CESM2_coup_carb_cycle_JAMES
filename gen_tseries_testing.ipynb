{
 "cells": [
  {
   "cell_type": "code",
   "execution_count": 1,
   "metadata": {},
   "outputs": [],
   "source": [
    "from datetime import datetime, timezone\n",
    "import math\n",
    "import os\n",
    "\n",
    "import xarray as xr\n",
    "import yaml\n",
    "from cf_units import Unit\n",
    "\n",
    "import data_catalog\n",
    "from tseries_utils import clean_units, get_weight, tseries_fname, tseries_copy_vars"
   ]
  },
  {
   "cell_type": "code",
   "execution_count": 2,
   "metadata": {},
   "outputs": [
    {
     "name": "stdout",
     "output_type": "stream",
     "text": [
      "active catalog: experiments\n",
      "{'component': 'atm', 'stream': 'cam.h0', 'weight_op': 'integrate', 'reduce_dims': ['lat', 'lon'], 'unit_conv': '(12 g)/(44 g)', 'units_out': 'Pg yr-1'}\n"
     ]
    },
    {
     "data": {
      "text/html": [
       "<div>\n",
       "<style scoped>\n",
       "    .dataframe tbody tr th:only-of-type {\n",
       "        vertical-align: middle;\n",
       "    }\n",
       "\n",
       "    .dataframe tbody tr th {\n",
       "        vertical-align: top;\n",
       "    }\n",
       "\n",
       "    .dataframe thead th {\n",
       "        text-align: right;\n",
       "    }\n",
       "</style>\n",
       "<table border=\"1\" class=\"dataframe\">\n",
       "  <thead>\n",
       "    <tr style=\"text-align: right;\">\n",
       "      <th></th>\n",
       "      <th>case</th>\n",
       "      <th>component</th>\n",
       "      <th>ctrl_branch_year</th>\n",
       "      <th>ctrl_experiment</th>\n",
       "      <th>date_range</th>\n",
       "      <th>ensemble</th>\n",
       "      <th>experiment</th>\n",
       "      <th>file_basename</th>\n",
       "      <th>files</th>\n",
       "      <th>sequence_order</th>\n",
       "      <th>stream</th>\n",
       "      <th>variable</th>\n",
       "      <th>grid</th>\n",
       "      <th>year_offset</th>\n",
       "      <th>has_ocean_bgc</th>\n",
       "    </tr>\n",
       "  </thead>\n",
       "  <tbody>\n",
       "    <tr>\n",
       "      <th>51094</th>\n",
       "      <td>b.e21.B1PCT.f09_g17.CMIP6-1pctCO2-bgc.001</td>\n",
       "      <td>atm</td>\n",
       "      <td>501.0</td>\n",
       "      <td>piControl</td>\n",
       "      <td>['000101', '005101']</td>\n",
       "      <td>0</td>\n",
       "      <td>1pctCO2-bgc</td>\n",
       "      <td>b.e21.B1PCT.f09_g17.CMIP6-1pctCO2-bgc.001.cam....</td>\n",
       "      <td>/glade/scratch/klindsay/archive/b.e21.B1PCT.f0...</td>\n",
       "      <td>0</td>\n",
       "      <td>cam.h0</td>\n",
       "      <td>SFCO2_OCN</td>\n",
       "      <td>NaN</td>\n",
       "      <td>NaN</td>\n",
       "      <td>NaN</td>\n",
       "    </tr>\n",
       "    <tr>\n",
       "      <th>51095</th>\n",
       "      <td>b.e21.B1PCT.f09_g17.CMIP6-1pctCO2-bgc.001</td>\n",
       "      <td>atm</td>\n",
       "      <td>501.0</td>\n",
       "      <td>piControl</td>\n",
       "      <td>['005102', '008012']</td>\n",
       "      <td>0</td>\n",
       "      <td>1pctCO2-bgc</td>\n",
       "      <td>b.e21.B1PCT.f09_g17.CMIP6-1pctCO2-bgc.001.cam....</td>\n",
       "      <td>/glade/scratch/klindsay/archive/b.e21.B1PCT.f0...</td>\n",
       "      <td>0</td>\n",
       "      <td>cam.h0</td>\n",
       "      <td>SFCO2_OCN</td>\n",
       "      <td>NaN</td>\n",
       "      <td>NaN</td>\n",
       "      <td>NaN</td>\n",
       "    </tr>\n",
       "  </tbody>\n",
       "</table>\n",
       "</div>"
      ],
      "text/plain": [
       "                                            case component  ctrl_branch_year  \\\n",
       "51094  b.e21.B1PCT.f09_g17.CMIP6-1pctCO2-bgc.001       atm             501.0   \n",
       "51095  b.e21.B1PCT.f09_g17.CMIP6-1pctCO2-bgc.001       atm             501.0   \n",
       "\n",
       "      ctrl_experiment            date_range  ensemble   experiment  \\\n",
       "51094       piControl  ['000101', '005101']         0  1pctCO2-bgc   \n",
       "51095       piControl  ['005102', '008012']         0  1pctCO2-bgc   \n",
       "\n",
       "                                           file_basename  \\\n",
       "51094  b.e21.B1PCT.f09_g17.CMIP6-1pctCO2-bgc.001.cam....   \n",
       "51095  b.e21.B1PCT.f09_g17.CMIP6-1pctCO2-bgc.001.cam....   \n",
       "\n",
       "                                                   files  sequence_order  \\\n",
       "51094  /glade/scratch/klindsay/archive/b.e21.B1PCT.f0...               0   \n",
       "51095  /glade/scratch/klindsay/archive/b.e21.B1PCT.f0...               0   \n",
       "\n",
       "       stream   variable grid  year_offset  has_ocean_bgc  \n",
       "51094  cam.h0  SFCO2_OCN  NaN          NaN            NaN  \n",
       "51095  cam.h0  SFCO2_OCN  NaN          NaN            NaN  "
      ]
     },
     "execution_count": 2,
     "metadata": {},
     "output_type": "execute_result"
    }
   ],
   "source": [
    "tseries_specs_fname = 'tseries_specs_atm.yaml'\n",
    "with open(tseries_specs_fname, mode='r') as fptr:\n",
    "    tseries_specs = yaml.load(fptr)\n",
    "\n",
    "catalog_name = 'experiments'\n",
    "data_catalog.set_catalog(catalog_name)\n",
    "\n",
    "varname = 'SFCO2_OCN'\n",
    "ts_spec = tseries_specs[varname]\n",
    "print(ts_spec)\n",
    "\n",
    "component = 'atm'\n",
    "stream = 'cam.h0'\n",
    "experiment = '1pctCO2-bgc'\n",
    "entries = data_catalog.find_in_index(\n",
    "    variable=varname, component=component, stream=stream, experiment=experiment)\n",
    "entries"
   ]
  },
  {
   "cell_type": "code",
   "execution_count": 3,
   "metadata": {},
   "outputs": [
    {
     "data": {
      "text/plain": [
       "['/glade/scratch/klindsay/archive/b.e21.B1PCT.f09_g17.CMIP6-1pctCO2-bgc.001/atm/proc/tseries/month_1/b.e21.B1PCT.f09_g17.CMIP6-1pctCO2-bgc.001.cam.h0.SFCO2_OCN.000101-005101.nc',\n",
       " '/glade/scratch/klindsay/archive/b.e21.B1PCT.f09_g17.CMIP6-1pctCO2-bgc.001/atm/proc/tseries/month_1/b.e21.B1PCT.f09_g17.CMIP6-1pctCO2-bgc.001.cam.h0.SFCO2_OCN.005102-008012.nc']"
      ]
     },
     "execution_count": 3,
     "metadata": {},
     "output_type": "execute_result"
    }
   ],
   "source": [
    "ensemble = 0\n",
    "fnames = data_catalog.get_files(\n",
    "    variable=varname, component=component, stream=stream, experiment=experiment, ensemble=ensemble)\n",
    "fnames"
   ]
  },
  {
   "cell_type": "code",
   "execution_count": 4,
   "metadata": {},
   "outputs": [
    {
     "data": {
      "text/plain": [
       "<xarray.Dataset>\n",
       "Dimensions:       (ilev: 33, lat: 192, lev: 32, lon: 288, nbnd: 2, time: 960, zlon: 1)\n",
       "Coordinates:\n",
       "  * lat           (lat) float64 -90.0 -89.06 -88.12 -87.17 ... 88.12 89.06 90.0\n",
       "  * zlon          (zlon) float64 0.0\n",
       "  * lon           (lon) float64 0.0 1.25 2.5 3.75 ... 355.0 356.2 357.5 358.8\n",
       "  * lev           (lev) float64 3.643 7.595 14.36 24.61 ... 957.5 976.3 992.6\n",
       "  * ilev          (ilev) float64 2.255 5.032 10.16 18.56 ... 967.5 985.1 1e+03\n",
       "  * time          (time) float64 31.0 59.0 90.0 ... 2.914e+04 2.917e+04 2.92e+04\n",
       "Dimensions without coordinates: nbnd\n",
       "Data variables:\n",
       "    zlon_bnds     (zlon, nbnd) float64 0.0 358.8\n",
       "    gw            (lat) float64 3.382e-05 0.0002705 ... 0.0002705 3.382e-05\n",
       "    hyam          (lev) float64 0.003643 0.007595 0.01436 ... 0.001989 0.0\n",
       "    hybm          (lev) float64 0.0 0.0 0.0 0.0 ... 0.9251 0.9512 0.9743 0.9926\n",
       "    P0            float64 1e+05\n",
       "    hyai          (ilev) float64 0.002255 0.005032 0.01016 ... 0.003979 0.0 0.0\n",
       "    hybi          (ilev) float64 0.0 0.0 0.0 0.0 ... 0.9389 0.9636 0.9851 1.0\n",
       "    ndbase        float64 0.0\n",
       "    nsbase        float64 0.0\n",
       "    nbdate        float64 1.01e+04\n",
       "    nbsec         float64 0.0\n",
       "    mdt           float64 1.8e+03\n",
       "    date          (time) float64 dask.array<shape=(960,), chunksize=(600,)>\n",
       "    datesec       (time) float64 dask.array<shape=(960,), chunksize=(600,)>\n",
       "    time_bnds     (time, nbnd) float64 dask.array<shape=(960, 2), chunksize=(600, 2)>\n",
       "    date_written  (time) object dask.array<shape=(960,), chunksize=(600,)>\n",
       "    time_written  (time) object dask.array<shape=(960,), chunksize=(600,)>\n",
       "    ndcur         (time) float64 dask.array<shape=(960,), chunksize=(600,)>\n",
       "    nscur         (time) float64 dask.array<shape=(960,), chunksize=(600,)>\n",
       "    co2vmr        (time) float64 dask.array<shape=(960,), chunksize=(600,)>\n",
       "    ch4vmr        (time) float64 dask.array<shape=(960,), chunksize=(600,)>\n",
       "    n2ovmr        (time) float64 dask.array<shape=(960,), chunksize=(600,)>\n",
       "    f11vmr        (time) float64 dask.array<shape=(960,), chunksize=(600,)>\n",
       "    f12vmr        (time) float64 dask.array<shape=(960,), chunksize=(600,)>\n",
       "    sol_tsi       (time) float64 dask.array<shape=(960,), chunksize=(600,)>\n",
       "    nsteph        (time) float64 dask.array<shape=(960,), chunksize=(600,)>\n",
       "    SFCO2_OCN     (time, lat, lon) float32 dask.array<shape=(960, 192, 288), chunksize=(600, 192, 288)>\n",
       "Attributes:\n",
       "    Conventions:       CF-1.0\n",
       "    source:            CAM\n",
       "    case:              b.e21.B1PCT.f09_g17.CMIP6-1pctCO2-bgc.001\n",
       "    logname:           cmip6\n",
       "    host:              cheyenne1\n",
       "    initial_file:      b.e21.B1850.f09_g17.CMIP6-piControl.001.cam.i.0501-01-...\n",
       "    topography_file:   /glade/p/cesmdata/cseg/inputdata/atm/cam/topo/fv_0.9x1...\n",
       "    model_doi_url:     https://doi.org/10.5065/D67H1H0V\n",
       "    time_period_freq:  month_1"
      ]
     },
     "execution_count": 4,
     "metadata": {},
     "output_type": "execute_result"
    }
   ],
   "source": [
    "ds_in = xr.open_mfdataset(fnames, decode_times=False, decode_coords=False, data_vars='minimal')\n",
    "ds_in"
   ]
  },
  {
   "cell_type": "code",
   "execution_count": 5,
   "metadata": {},
   "outputs": [
    {
     "data": {
      "text/plain": [
       "<xarray.DataArray 'SFCO2_OCN' (time: 960, lat: 192, lon: 288)>\n",
       "dask.array<shape=(960, 192, 288), dtype=float32, chunksize=(600, 192, 288)>\n",
       "Coordinates:\n",
       "  * lat      (lat) float64 -90.0 -89.06 -88.12 -87.17 ... 87.17 88.12 89.06 90.0\n",
       "  * lon      (lon) float64 0.0 1.25 2.5 3.75 5.0 ... 355.0 356.2 357.5 358.8\n",
       "  * time     (time) float64 31.0 59.0 90.0 ... 2.914e+04 2.917e+04 2.92e+04\n",
       "Attributes:\n",
       "    units:         kg/m2/s\n",
       "    long_name:     CO2_OCN surface flux\n",
       "    cell_methods:  time: mean"
      ]
     },
     "execution_count": 5,
     "metadata": {},
     "output_type": "execute_result"
    }
   ],
   "source": [
    "da_in = ds_in[varname]\n",
    "da_in"
   ]
  },
  {
   "cell_type": "code",
   "execution_count": 6,
   "metadata": {},
   "outputs": [
    {
     "name": "stdout",
     "output_type": "stream",
     "text": [
      "kg/m2/s\n",
      "((12 g)/(44 g))(kg/m2/s)\n"
     ]
    }
   ],
   "source": [
    "var_units = clean_units(da_in.attrs['units'])\n",
    "print(var_units)\n",
    "if 'unit_conv' in ts_spec:\n",
    "    var_units = '(%s)(%s)' % (str(ts_spec['unit_conv']), var_units)\n",
    "print(var_units)"
   ]
  },
  {
   "cell_type": "code",
   "execution_count": 7,
   "metadata": {},
   "outputs": [
    {
     "name": "stdout",
     "output_type": "stream",
     "text": [
      "<xarray.DataArray (lat: 192, lon: 288)>\n",
      "array([[2.994837e+07, 2.994837e+07, 2.994837e+07, ..., 2.994837e+07,\n",
      "        2.994837e+07, 2.994837e+07],\n",
      "       [2.395748e+08, 2.395748e+08, 2.395748e+08, ..., 2.395748e+08,\n",
      "        2.395748e+08, 2.395748e+08],\n",
      "       [4.790848e+08, 4.790848e+08, 4.790848e+08, ..., 4.790848e+08,\n",
      "        4.790848e+08, 4.790848e+08],\n",
      "       ...,\n",
      "       [4.790848e+08, 4.790848e+08, 4.790848e+08, ..., 4.790848e+08,\n",
      "        4.790848e+08, 4.790848e+08],\n",
      "       [2.395748e+08, 2.395748e+08, 2.395748e+08, ..., 2.395748e+08,\n",
      "        2.395748e+08, 2.395748e+08],\n",
      "       [2.994837e+07, 2.994837e+07, 2.994837e+07, ..., 2.994837e+07,\n",
      "        2.994837e+07, 2.994837e+07]])\n",
      "Coordinates:\n",
      "  * lat      (lat) float64 -90.0 -89.06 -88.12 -87.17 ... 87.17 88.12 89.06 90.0\n",
      "  * lon      (lon) float64 0.0 1.25 2.5 3.75 5.0 ... 355.0 356.2 357.5 358.8\n",
      "Attributes:\n",
      "    units:    m2\n",
      "510099699070761.6\n",
      "1.0000543042369736\n"
     ]
    }
   ],
   "source": [
    "reduce_dims = ts_spec['reduce_dims']\n",
    "weight = get_weight(ds_in, component, reduce_dims)\n",
    "print(weight)\n",
    "area_earth_wikipedia = 510072000*1.0e3**2\n",
    "print(weight.sum(dim=('lat', 'lon')).values)\n",
    "print(weight.sum(dim=('lat', 'lon')).values / area_earth_wikipedia)"
   ]
  },
  {
   "cell_type": "code",
   "execution_count": 8,
   "metadata": {},
   "outputs": [
    {
     "data": {
      "text/plain": [
       "<xarray.DataArray 'SFCO2_OCN' (time: 960)>\n",
       "dask.array<shape=(960,), dtype=float64, chunksize=(600,)>\n",
       "Coordinates:\n",
       "  * time     (time) float64 31.0 59.0 90.0 ... 2.914e+04 2.917e+04 2.92e+04\n",
       "Attributes:\n",
       "    long_name:  Integrated CO2_OCN surface flux\n",
       "    units:      0.272727272727273 kg.s-1"
      ]
     },
     "execution_count": 8,
     "metadata": {},
     "output_type": "execute_result"
    }
   ],
   "source": [
    "da_out = (da_in * weight).sum(dim=reduce_dims)\n",
    "da_out.name = varname\n",
    "da_out.attrs['long_name'] = 'Integrated '+da_in.attrs['long_name']\n",
    "da_out.attrs['units']=Unit('(%s)(%s)' % (weight.attrs['units'], var_units)).format()\n",
    "da_out"
   ]
  },
  {
   "cell_type": "code",
   "execution_count": 9,
   "metadata": {},
   "outputs": [
    {
     "data": {
      "text/plain": [
       "array([ 0.27223619,  0.66236102,  0.72936225,  0.40835357, -0.0800955 ,\n",
       "       -0.05985384,  0.30330485,  0.23189009, -0.06107542, -0.41818962,\n",
       "       -0.83410069, -0.83703803])"
      ]
     },
     "execution_count": 9,
     "metadata": {},
     "output_type": "execute_result"
    }
   ],
   "source": [
    "Unit(da_out.attrs['units']).convert(da_out.values[0:12], Unit(clean_units(ts_spec['units_out'])))"
   ]
  },
  {
   "cell_type": "code",
   "execution_count": 10,
   "metadata": {},
   "outputs": [
    {
     "name": "stdout",
     "output_type": "stream",
     "text": [
      "<xarray.Dataset>\n",
      "Dimensions:    (nbnd: 2, time: 960)\n",
      "Coordinates:\n",
      "  * time       (time) float64 31.0 59.0 90.0 ... 2.914e+04 2.917e+04 2.92e+04\n",
      "Dimensions without coordinates: nbnd\n",
      "Data variables:\n",
      "    SFCO2_OCN  (time) float64 dask.array<shape=(960,), chunksize=(600,)>\n",
      "    time_bnds  (time, nbnd) float64 dask.array<shape=(960, 2), chunksize=(600, 2)>\n",
      "co2vmr\n",
      "ch4vmr\n",
      "f11vmr\n",
      "f12vmr\n",
      "n2ovmr\n",
      "sol_tsi\n",
      "<xarray.Dataset>\n",
      "Dimensions:    (nbnd: 2, time: 960)\n",
      "Coordinates:\n",
      "  * time       (time) float64 31.0 59.0 90.0 ... 2.914e+04 2.917e+04 2.92e+04\n",
      "Dimensions without coordinates: nbnd\n",
      "Data variables:\n",
      "    SFCO2_OCN  (time) float64 dask.array<shape=(960,), chunksize=(600,)>\n",
      "    time_bnds  (time, nbnd) float64 dask.array<shape=(960, 2), chunksize=(600, 2)>\n",
      "    co2vmr     (time) float64 dask.array<shape=(960,), chunksize=(600,)>\n",
      "    ch4vmr     (time) float64 dask.array<shape=(960,), chunksize=(600,)>\n",
      "    f11vmr     (time) float64 dask.array<shape=(960,), chunksize=(600,)>\n",
      "    f12vmr     (time) float64 dask.array<shape=(960,), chunksize=(600,)>\n",
      "    n2ovmr     (time) float64 dask.array<shape=(960,), chunksize=(600,)>\n",
      "    sol_tsi    (time) float64 dask.array<shape=(960,), chunksize=(600,)>\n",
      "Attributes:\n",
      "    Conventions:       CF-1.0\n",
      "    source:            CAM\n",
      "    case:              b.e21.B1PCT.f09_g17.CMIP6-1pctCO2-bgc.001\n",
      "    logname:           cmip6\n",
      "    host:              cheyenne1\n",
      "    initial_file:      b.e21.B1850.f09_g17.CMIP6-piControl.001.cam.i.0501-01-...\n",
      "    topography_file:   /glade/p/cesmdata/cseg/inputdata/atm/cam/topo/fv_0.9x1...\n",
      "    model_doi_url:     https://doi.org/10.5065/D67H1H0V\n",
      "    time_period_freq:  month_1\n",
      "    history:           created at 2019-02-06 21:07:23 UTC\n"
     ]
    }
   ],
   "source": [
    "ds_out = da_out.to_dataset()\n",
    "merge_objs = []\n",
    "if 'bounds' in ds_in['time'].attrs:\n",
    "    tb = ds_in[ds_in['time'].attrs['bounds']]\n",
    "    tb.attrs['units'] = ds_in['time'].attrs['units']\n",
    "    tb.attrs['calendar'] = ds_in['time'].attrs['calendar']\n",
    "    ds_out = xr.merge((ds_out, tb))\n",
    "print(ds_out)\n",
    "for copy_var in tseries_copy_vars(component):\n",
    "    print(copy_var)\n",
    "    ds_out = xr.merge((ds_out, ds_in[copy_var]))\n",
    "ds_out.attrs = ds_in.attrs\n",
    "datestamp = datetime.now(timezone.utc).strftime(\"%Y-%m-%d %H:%M:%S %Z\")\n",
    "ds_out.attrs['history'] = 'created at %s' % datestamp\n",
    "print(ds_out)"
   ]
  },
  {
   "cell_type": "code",
   "execution_count": null,
   "metadata": {},
   "outputs": [],
   "source": []
  }
 ],
 "metadata": {
  "kernelspec": {
   "display_name": "Python [conda env:analysis]",
   "language": "python",
   "name": "conda-env-analysis-py"
  },
  "language_info": {
   "codemirror_mode": {
    "name": "ipython",
    "version": 3
   },
   "file_extension": ".py",
   "mimetype": "text/x-python",
   "name": "python",
   "nbconvert_exporter": "python",
   "pygments_lexer": "ipython3",
   "version": "3.6.8"
  }
 },
 "nbformat": 4,
 "nbformat_minor": 2
}
