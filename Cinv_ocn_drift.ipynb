{
 "cells": [
  {
   "cell_type": "code",
   "execution_count": 1,
   "metadata": {},
   "outputs": [],
   "source": [
    "import os\n",
    "\n",
    "import xarray as xr\n",
    "import matplotlib.pyplot as plt\n",
    "import ncar_jobqueue\n",
    "\n",
    "import data_catalog\n",
    "import esmlab_wrap\n",
    "import tseries_mod"
   ]
  },
  {
   "cell_type": "code",
   "execution_count": 2,
   "metadata": {},
   "outputs": [
    {
     "name": "stdout",
     "output_type": "stream",
     "text": [
      "active catalog: experiments\n"
     ]
    }
   ],
   "source": [
    "data_catalog.set_catalog('experiments')"
   ]
  },
  {
   "cell_type": "code",
   "execution_count": 3,
   "metadata": {},
   "outputs": [],
   "source": [
    "clobber = os.environ['CLOBBER'] == 'True' if 'CLOBBER' in os.environ else False\n",
    "cluster = ncar_jobqueue.NCARCluster() if clobber else None"
   ]
  },
  {
   "cell_type": "code",
   "execution_count": 4,
   "metadata": {},
   "outputs": [],
   "source": [
    "varnames = ['FG_CO2', 'DIC_vertint']"
   ]
  },
  {
   "cell_type": "code",
   "execution_count": 5,
   "metadata": {},
   "outputs": [],
   "source": [
    "experiment = 'piControl'\n",
    "piControl = tseries_mod.tseries_get_vars(varnames, 'ocn', experiment, cluster_in=cluster)\n",
    "piControl_ann = esmlab_wrap.compute_ann_mean(piControl)\n",
    "# print(piControl_ann)"
   ]
  },
  {
   "cell_type": "code",
   "execution_count": 6,
   "metadata": {},
   "outputs": [],
   "source": [
    "experiment = 'piControl-waccm'\n",
    "piControl_waccm = tseries_mod.tseries_get_vars(varnames, 'ocn', experiment, cluster_in=cluster)\n",
    "piControl_waccm_ann = esmlab_wrap.compute_ann_mean(piControl_waccm)\n",
    "# print(piControl_waccm_ann)"
   ]
  },
  {
   "cell_type": "code",
   "execution_count": 7,
   "metadata": {},
   "outputs": [],
   "source": [
    "experiment = 'esm-piControl'\n",
    "esm_piControl = tseries_mod.tseries_get_vars(varnames, 'ocn', experiment, cluster_in=cluster)\n",
    "esm_piControl_ann = esmlab_wrap.compute_ann_mean(esm_piControl)\n",
    "# print(esm_piControl_ann)"
   ]
  },
  {
   "cell_type": "code",
   "execution_count": 8,
   "metadata": {},
   "outputs": [],
   "source": [
    "if clobber:\n",
    "    cluster.close()"
   ]
  },
  {
   "cell_type": "code",
   "execution_count": 9,
   "metadata": {},
   "outputs": [
    {
     "name": "stdout",
     "output_type": "stream",
     "text": [
      "<xarray.Dataset>\n",
      "Dimensions:      ()\n",
      "Coordinates:\n",
      "    region       <U6 'SouOce'\n",
      "Data variables:\n",
      "    FG_CO2       float64 0.2243\n",
      "    DIC_vertint  float64 1.126e+04\n",
      "Attributes:\n",
      "    history:  \\n2019-11-09 15:03:39.717028 esmlab.resample(<DATASET>, freq=\"a...\n",
      "<xarray.Dataset>\n",
      "Dimensions:      ()\n",
      "Coordinates:\n",
      "    region       <U6 'SouOce'\n",
      "Data variables:\n",
      "    FG_CO2       float64 0.2144\n",
      "    DIC_vertint  float64 1.124e+04\n",
      "Attributes:\n",
      "    history:  \\n2019-11-09 15:03:57.713515 esmlab.resample(<DATASET>, freq=\"a...\n",
      "<xarray.Dataset>\n",
      "Dimensions:      ()\n",
      "Coordinates:\n",
      "    region       <U6 'SouOce'\n",
      "Data variables:\n",
      "    FG_CO2       float64 0.2352\n",
      "    DIC_vertint  float64 1.128e+04\n",
      "Attributes:\n",
      "    history:  \\n2019-11-09 15:04:17.046833 esmlab.resample(<DATASET>, freq=\"a...\n"
     ]
    }
   ],
   "source": [
    "print(piControl_ann.mean('time').sel(region='SouOce'))\n",
    "print(piControl_waccm_ann.mean('time').sel(region='SouOce'))\n",
    "print(esm_piControl_ann.mean('time').sel(region='SouOce'))"
   ]
  },
  {
   "cell_type": "code",
   "execution_count": null,
   "metadata": {},
   "outputs": [],
   "source": []
  }
 ],
 "metadata": {
  "kernelspec": {
   "display_name": "Python [conda env:CESM2_coup_carb_cycle_JAMES_tst]",
   "language": "python",
   "name": "conda-env-CESM2_coup_carb_cycle_JAMES_tst-py"
  },
  "language_info": {
   "codemirror_mode": {
    "name": "ipython",
    "version": 3
   },
   "file_extension": ".py",
   "mimetype": "text/x-python",
   "name": "python",
   "nbconvert_exporter": "python",
   "pygments_lexer": "ipython3",
   "version": "3.7.3"
  }
 },
 "nbformat": 4,
 "nbformat_minor": 4
}
