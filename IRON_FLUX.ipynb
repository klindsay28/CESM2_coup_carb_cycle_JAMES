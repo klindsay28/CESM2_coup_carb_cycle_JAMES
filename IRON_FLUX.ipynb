{
 "cells": [
  {
   "cell_type": "code",
   "execution_count": 1,
   "metadata": {},
   "outputs": [],
   "source": [
    "import xarray as xr\n",
    "import matplotlib.pyplot as plt\n",
    "import data_catalog\n",
    "import tseries_mod\n",
    "import esmlab_wrap"
   ]
  },
  {
   "cell_type": "code",
   "execution_count": 2,
   "metadata": {},
   "outputs": [
    {
     "name": "stdout",
     "output_type": "stream",
     "text": [
      "active catalog: experiments\n"
     ]
    }
   ],
   "source": [
    "data_catalog.set_catalog('experiments')\n",
    "varnames = ['IRON_FLUX', 'ATM_COARSE_DUST_FLUX_CPL', 'ATM_FINE_DUST_FLUX_CPL', 'ATM_BLACK_CARBON_FLUX_CPL']"
   ]
  },
  {
   "cell_type": "code",
   "execution_count": 3,
   "metadata": {},
   "outputs": [
    {
     "name": "stdout",
     "output_type": "stream",
     "text": [
      "<xarray.Dataset>\n",
      "Dimensions:                    (d2: 2, region: 7, time: 14400)\n",
      "Coordinates:\n",
      "  * time                       (time) object 0001-01-16 12:59:59 ... 1200-12-16 12:00:00\n",
      "  * region                     (region) object 'Global' ... 'NH_high_lat'\n",
      "Dimensions without coordinates: d2\n",
      "Data variables:\n",
      "    IRON_FLUX                  (time, region) float32 6.8108826 ... 0.26725763\n",
      "    time_bound                 (time, d2) object 0001-01-01 01:59:59 ... 1201-01-01 00:00:00\n",
      "    ATM_COARSE_DUST_FLUX_CPL   (time, region) float32 1.3789735 ... 0.13712609\n",
      "    ATM_FINE_DUST_FLUX_CPL     (time, region) float32 0.020143477 ... 0.004267832\n",
      "    ATM_BLACK_CARBON_FLUX_CPL  (time, region) float32 0.0043199924 ... 0.003223045\n",
      "Attributes:\n",
      "    title:             b.e21.B1850.f09_g17.CMIP6-piControl.001\n",
      "    history:           created by /glade/work/klindsay/analysis/CESM2_coup_ca...\n",
      "    Conventions:       CF-1.0; http://www.cgd.ucar.edu/cms/eaton/netcdf/CF-cu...\n",
      "    time_period_freq:  month_1\n",
      "    model_doi_url:     https://doi.org/10.5065/D67H1H0V\n",
      "    contents:          Diagnostic and Prognostic Variables\n",
      "    source:            CCSM POP2, the CCSM Ocean Component\n",
      "    revision:          $Id: tavg.F90 89644 2018-08-04 14:26:01Z klindsay $\n",
      "    calendar:          All years have exactly  365 days.\n",
      "    start_time:        This dataset was created on 2018-08-09 at 18:18:26.3\n",
      "    cell_methods:      cell_methods = time: mean ==> the variable values are ...\n",
      "    input_file_list:   /glade/campaign/collections/cmip/CMIP6/timeseries-cmip...\n"
     ]
    }
   ],
   "source": [
    "experiment = 'piControl'\n",
    "ds_piControl = tseries_mod.tseries_get_vars(varnames, 'ocn', experiment)\n",
    "print(ds_piControl)\n",
    "ds_piControl_ann = esmlab_wrap.compute_ann_mean(ds_piControl)\n",
    "# print(ds_piControl_ann)"
   ]
  },
  {
   "cell_type": "code",
   "execution_count": 4,
   "metadata": {},
   "outputs": [
    {
     "name": "stdout",
     "output_type": "stream",
     "text": [
      "<xarray.Dataset>\n",
      "Dimensions:                    (d2: 2, region: 7, time: 5988)\n",
      "Coordinates:\n",
      "  * time                       (time) object 0001-01-16 12:59:59 ... 0499-12-16 12:00:00\n",
      "  * region                     (region) object 'Global' ... 'NH_high_lat'\n",
      "Dimensions without coordinates: d2\n",
      "Data variables:\n",
      "    IRON_FLUX                  (time, region) float32 6.2431293 ... 0.19490008\n",
      "    time_bound                 (time, d2) object 0001-01-01 01:59:59 ... 0500-01-01 00:00:00\n",
      "    ATM_COARSE_DUST_FLUX_CPL   (time, region) float32 1.1949589 ... 0.033596687\n",
      "    ATM_FINE_DUST_FLUX_CPL     (time, region) float32 0.01748822 ... 0.0016771276\n",
      "    ATM_BLACK_CARBON_FLUX_CPL  (time, region) float32 0.004455677 ... 0.0030049935\n",
      "Attributes:\n",
      "    title:             b.e21.BW1850.f09_g17.CMIP6-piControl.001\n",
      "    history:           created by /glade/work/klindsay/analysis/CESM2_coup_ca...\n",
      "    Conventions:       CF-1.0; http://www.cgd.ucar.edu/cms/eaton/netcdf/CF-cu...\n",
      "    time_period_freq:  month_1\n",
      "    model_doi_url:     https://doi.org/10.5065/D67H1H0V\n",
      "    contents:          Diagnostic and Prognostic Variables\n",
      "    source:            CCSM POP2, the CCSM Ocean Component\n",
      "    revision:          $Id: tavg.F90 89493 2018-07-16 16:11:22Z klindsay $\n",
      "    calendar:          All years have exactly  365 days.\n",
      "    start_time:        This dataset was created on 2018-07-21 at 17:26:37.3\n",
      "    cell_methods:      cell_methods = time: mean ==> the variable values are ...\n",
      "    input_file_list:   /glade/campaign/collections/cmip/CMIP6/timeseries-cmip...\n"
     ]
    }
   ],
   "source": [
    "experiment = 'piControl-waccm'\n",
    "ds_piControl_waccm = tseries_mod.tseries_get_vars(varnames, 'ocn', experiment)\n",
    "print(ds_piControl_waccm)\n",
    "ds_piControl_waccm_ann = esmlab_wrap.compute_ann_mean(ds_piControl_waccm)\n",
    "# print(ds_piControl_waccm_ann)"
   ]
  },
  {
   "cell_type": "code",
   "execution_count": 5,
   "metadata": {},
   "outputs": [
    {
     "name": "stdout",
     "output_type": "stream",
     "text": [
      "<xarray.Dataset>\n",
      "Dimensions:                    (d2: 2, ensemble: 11, region: 7, time: 1980)\n",
      "Coordinates:\n",
      "  * time                       (time) object 1850-01-16 13:00:00 ... 2014-12-16 12:00:00\n",
      "  * region                     (region) object 'Global' ... 'NH_high_lat'\n",
      "Dimensions without coordinates: d2, ensemble\n",
      "Data variables:\n",
      "    time_bound                 (time, d2) object 1850-01-01 02:00:00 ... 2015-01-01 00:00:00\n",
      "    IRON_FLUX                  (time, region, ensemble) float32 5.0446606 ... 0.13883004\n",
      "    ATM_COARSE_DUST_FLUX_CPL   (time, region, ensemble) float32 1.0332386 ... 0.034491904\n",
      "    ATM_FINE_DUST_FLUX_CPL     (time, region, ensemble) float32 0.014639973 ... 0.0014133905\n",
      "    ATM_BLACK_CARBON_FLUX_CPL  (time, region, ensemble) float32 0.0044277865 ... 0.004184235\n",
      "Attributes:\n",
      "    title:             b.e21.BHIST.f09_g17.CMIP6-historical.001\n",
      "    history:           created by /glade/work/klindsay/analysis/CESM2_coup_ca...\n",
      "    Conventions:       CF-1.0; http://www.cgd.ucar.edu/cms/eaton/netcdf/CF-cu...\n",
      "    time_period_freq:  month_1\n",
      "    model_doi_url:     https://doi.org/10.5065/D67H1H0V\n",
      "    contents:          Diagnostic and Prognostic Variables\n",
      "    source:            CCSM POP2, the CCSM Ocean Component\n",
      "    revision:          $Id: tavg.F90 89644 2018-08-04 14:26:01Z klindsay $\n",
      "    calendar:          All years have exactly  365 days.\n",
      "    start_time:        This dataset was created on 2018-10-03 at 12:59:45.7\n",
      "    cell_methods:      cell_methods = time: mean ==> the variable values are ...\n",
      "    input_file_list:   /glade/campaign/collections/cmip/CMIP6/timeseries-cmip...\n"
     ]
    }
   ],
   "source": [
    "experiment = 'historical'\n",
    "ds_historical = tseries_mod.tseries_get_vars(varnames, 'ocn', experiment)\n",
    "print(ds_historical)\n",
    "ds_historical_ann = esmlab_wrap.compute_ann_mean(ds_historical)\n",
    "# print(ds_historical_ann)"
   ]
  },
  {
   "cell_type": "code",
   "execution_count": 6,
   "metadata": {},
   "outputs": [
    {
     "name": "stdout",
     "output_type": "stream",
     "text": [
      "<xarray.Dataset>\n",
      "Dimensions:                    (d2: 2, ensemble: 3, region: 7, time: 1980)\n",
      "Coordinates:\n",
      "  * time                       (time) object 1850-01-16 13:00:00 ... 2014-12-16 12:00:00\n",
      "  * region                     (region) object 'Global' ... 'NH_high_lat'\n",
      "Dimensions without coordinates: d2, ensemble\n",
      "Data variables:\n",
      "    time_bound                 (time, d2) object 1850-01-01 02:00:00 ... 2015-01-01 00:00:00\n",
      "    IRON_FLUX                  (time, region, ensemble) float32 7.017702 ... 0.41417238\n",
      "    ATM_COARSE_DUST_FLUX_CPL   (time, region, ensemble) float32 1.4449234 ... 0.32795522\n",
      "    ATM_FINE_DUST_FLUX_CPL     (time, region, ensemble) float32 0.021254966 ... 0.0072954413\n",
      "    ATM_BLACK_CARBON_FLUX_CPL  (time, region, ensemble) float32 0.00441275 ... 0.006091978\n",
      "Attributes:\n",
      "    title:             b.e21.BWHIST.f09_g17.CMIP6-historical-WACCM.001\n",
      "    history:           created by /glade/work/klindsay/analysis/CESM2_coup_ca...\n",
      "    Conventions:       CF-1.0; http://www.cgd.ucar.edu/cms/eaton/netcdf/CF-cu...\n",
      "    time_period_freq:  month_1\n",
      "    model_doi_url:     https://doi.org/10.5065/D67H1H0V\n",
      "    contents:          Diagnostic and Prognostic Variables\n",
      "    source:            CCSM POP2, the CCSM Ocean Component\n",
      "    revision:          $Id: tavg.F90 89644 2018-08-04 14:26:01Z klindsay $\n",
      "    calendar:          All years have exactly  365 days.\n",
      "    start_time:        This dataset was created on 2018-08-08 at 15:57:13.4\n",
      "    cell_methods:      cell_methods = time: mean ==> the variable values are ...\n",
      "    input_file_list:   /glade/campaign/collections/cmip/CMIP6/timeseries-cmip...\n"
     ]
    }
   ],
   "source": [
    "experiment = 'historical-waccm'\n",
    "ds_historical_waccm = tseries_mod.tseries_get_vars(varnames, 'ocn', experiment)\n",
    "print(ds_historical_waccm)\n",
    "ds_historical_waccm_ann = esmlab_wrap.compute_ann_mean(ds_historical_waccm)\n",
    "# print(ds_historical_waccm_ann)"
   ]
  },
  {
   "cell_type": "code",
   "execution_count": 7,
   "metadata": {},
   "outputs": [
    {
     "name": "stdout",
     "output_type": "stream",
     "text": [
      "<xarray.Dataset>\n",
      "Dimensions:                    (d2: 2, region: 7, time: 4464)\n",
      "Coordinates:\n",
      "  * time                       (time) object 0001-01-16 12:59:59 ... 0372-12-16 12:00:00\n",
      "  * region                     (region) object 'Global' ... 'NH_high_lat'\n",
      "Dimensions without coordinates: d2\n",
      "Data variables:\n",
      "    IRON_FLUX                  (time, region) float32 5.821885 ... 0.17853267\n",
      "    time_bound                 (time, d2) object 0001-01-01 01:59:59 ... 0373-01-01 00:00:00\n",
      "    ATM_COARSE_DUST_FLUX_CPL   (time, region) float32 1.2443411 ... 0.10639717\n",
      "    ATM_FINE_DUST_FLUX_CPL     (time, region) float32 0.018011715 ... 0.002877781\n",
      "    ATM_BLACK_CARBON_FLUX_CPL  (time, region) float32 0.0040397276 ... 0.005765875\n",
      "Attributes:\n",
      "    title:             g.e21.GOMIPECOIAF.T62_g17.CMIP6-omip1.002\n",
      "    history:           created by /glade/work/klindsay/analysis/CESM2_coup_ca...\n",
      "    Conventions:       CF-1.0; http://www.cgd.ucar.edu/cms/eaton/netcdf/CF-cu...\n",
      "    time_period_freq:  month_1\n",
      "    model_doi_url:     https://doi.org/10.5065/D67H1H0V\n",
      "    contents:          Diagnostic and Prognostic Variables\n",
      "    source:            CCSM POP2, the CCSM Ocean Component\n",
      "    revision:          $Id$\n",
      "    calendar:          All years have exactly  365 days.\n",
      "    start_time:        This dataset was created on 2019-06-21 at 07:24:06.5\n",
      "    cell_methods:      cell_methods = time: mean ==> the variable values are ...\n",
      "    input_file_list:   /glade/campaign/collections/cmip/CMIP6/timeseries-cmip...\n"
     ]
    }
   ],
   "source": [
    "experiment = 'coreII'\n",
    "ds_coreII = tseries_mod.tseries_get_vars(varnames, 'ocn', experiment)\n",
    "print(ds_coreII)\n",
    "ds_coreII_ann = esmlab_wrap.compute_ann_mean(ds_coreII)\n",
    "# print(ds_coreII_ann)"
   ]
  },
  {
   "cell_type": "code",
   "execution_count": 8,
   "metadata": {},
   "outputs": [
    {
     "data": {
      "text/plain": [
       "[<matplotlib.lines.Line2D at 0x2ac530184550>]"
      ]
     },
     "execution_count": 8,
     "metadata": {},
     "output_type": "execute_result"
    },
    {
     "data": {
      "image/png": "[encoded data removed]",
      "text/plain": [
       "<Figure size 432x288 with 1 Axes>"
      ]
     },
     "metadata": {
      "needs_background": "light"
     },
     "output_type": "display_data"
    }
   ],
   "source": [
    "ds_coreII_ann.ATM_BLACK_CARBON_FLUX_CPL.isel(region=0).plot()"
   ]
  },
  {
   "cell_type": "code",
   "execution_count": null,
   "metadata": {},
   "outputs": [],
   "source": []
  }
 ],
 "metadata": {
  "kernelspec": {
   "display_name": "Python [conda env:CESM2_coup_carb_cycle_JAMES_tst]",
   "language": "python",
   "name": "conda-env-CESM2_coup_carb_cycle_JAMES_tst-py"
  },
  "language_info": {
   "codemirror_mode": {
    "name": "ipython",
    "version": 3
   },
   "file_extension": ".py",
   "mimetype": "text/x-python",
   "name": "python",
   "nbconvert_exporter": "python",
   "pygments_lexer": "ipython3",
   "version": "3.7.3"
  }
 },
 "nbformat": 4,
 "nbformat_minor": 4
}
