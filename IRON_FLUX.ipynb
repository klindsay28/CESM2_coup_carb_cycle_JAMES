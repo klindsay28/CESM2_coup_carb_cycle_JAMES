{
 "cells": [
  {
   "cell_type": "code",
   "execution_count": 1,
   "metadata": {},
   "outputs": [],
   "source": [
    "import xarray as xr\n",
    "import matplotlib.pyplot as plt\n",
    "import data_catalog\n",
    "import tseries_mod\n",
    "import esmlab_wrap"
   ]
  },
  {
   "cell_type": "code",
   "execution_count": 2,
   "metadata": {},
   "outputs": [
    {
     "name": "stdout",
     "output_type": "stream",
     "text": [
      "active catalog: experiments\n"
     ]
    }
   ],
   "source": [
    "data_catalog.set_catalog('experiments')\n",
    "varnames = ['IRON_FLUX', 'ATM_COARSE_DUST_FLUX_CPL', 'ATM_FINE_DUST_FLUX_CPL', 'ATM_BLACK_CARBON_FLUX_CPL']"
   ]
  },
  {
   "cell_type": "code",
   "execution_count": 3,
   "metadata": {},
   "outputs": [
    {
     "name": "stdout",
     "output_type": "stream",
     "text": [
      "<xarray.Dataset>\n",
      "Dimensions:                    (d2: 2, region: 4, time: 14400)\n",
      "Coordinates:\n",
      "  * time                       (time) object 0001-01-16 12:59:59 ... 1200-12-16 12:00:00\n",
      "  * region                     (region) object 'Global' ... 'NH_mid_lat'\n",
      "Dimensions without coordinates: d2\n",
      "Data variables:\n",
      "    IRON_FLUX                  (time, region) float32 6.8108826 ... 2.3015249\n",
      "    time_bound                 (time, d2) object 0001-01-01 01:59:59 ... 1201-01-01 00:00:00\n",
      "    ATM_COARSE_DUST_FLUX_CPL   (time, region) float32 1.3789735 ... 1.0807226\n",
      "    ATM_FINE_DUST_FLUX_CPL     (time, region) float32 0.020143477 ... 0.017644666\n",
      "    ATM_BLACK_CARBON_FLUX_CPL  (time, region) float32 0.0043199924 ... 0.004870472\n",
      "Attributes:\n",
      "    title:             b.e21.B1850.f09_g17.CMIP6-piControl.001\n",
      "    history:           created by /gpfs/fs1/work/klindsay/analysis/CESM2_coup...\n",
      "    Conventions:       CF-1.0; http://www.cgd.ucar.edu/cms/eaton/netcdf/CF-cu...\n",
      "    time_period_freq:  month_1\n",
      "    model_doi_url:     https://doi.org/10.5065/D67H1H0V\n",
      "    contents:          Diagnostic and Prognostic Variables\n",
      "    source:            CCSM POP2, the CCSM Ocean Component\n",
      "    revision:          $Id: tavg.F90 89644 2018-08-04 14:26:01Z klindsay $\n",
      "    calendar:          All years have exactly  365 days.\n",
      "    start_time:        This dataset was created on 2018-08-09 at 18:18:26.3\n",
      "    cell_methods:      cell_methods = time: mean ==> the variable values are ...\n",
      "    input_file_list:   /glade/collections/cdg/timeseries-cmip6/b.e21.B1850.f0...\n",
      "<xarray.Dataset>\n",
      "Dimensions:                    (d2: 2, region: 4, time: 1200)\n",
      "Coordinates:\n",
      "  * region                     (region) object 'Global' ... 'NH_mid_lat'\n",
      "  * time                       (time) object 0001-07-01 17:05:00 ... 1200-07-01 17:00:00\n",
      "Dimensions without coordinates: d2\n",
      "Data variables:\n",
      "    IRON_FLUX                  (time, region) float64 7.578 0.4113 ... 3.077\n",
      "    time_bound                 (d2, time) object 0001-01-01 01:59:59 ... 1201-01-01 00:00:00\n",
      "    ATM_COARSE_DUST_FLUX_CPL   (time, region) float64 1.245 0.2255 ... 1.743\n",
      "    ATM_FINE_DUST_FLUX_CPL     (time, region) float64 0.01846 ... 0.02489\n",
      "    ATM_BLACK_CARBON_FLUX_CPL  (time, region) float64 0.002991 ... 0.004381\n",
      "Attributes:\n",
      "    history:  \\n2019-06-04 15:20:57.343249 esmlab.resample(<DATASET>, freq=\"a...\n"
     ]
    }
   ],
   "source": [
    "experiment = 'piControl'\n",
    "ds_piControl = tseries_mod.tseries_get_vars(varnames, 'ocn', experiment)\n",
    "print(ds_piControl)\n",
    "ds_piControl_ann = esmlab_wrap.compute_ann_mean(ds_piControl)\n",
    "print(ds_piControl_ann)"
   ]
  },
  {
   "cell_type": "code",
   "execution_count": 4,
   "metadata": {},
   "outputs": [
    {
     "name": "stdout",
     "output_type": "stream",
     "text": [
      "<xarray.Dataset>\n",
      "Dimensions:                    (d2: 2, region: 4, time: 5988)\n",
      "Coordinates:\n",
      "  * time                       (time) object 0001-01-16 12:59:59 ... 0499-12-16 12:00:00\n",
      "  * region                     (region) object 'Global' ... 'NH_mid_lat'\n",
      "Dimensions without coordinates: d2\n",
      "Data variables:\n",
      "    IRON_FLUX                  (time, region) float32 6.2431293 ... 1.953613\n",
      "    time_bound                 (time, d2) object 0001-01-01 01:59:59 ... 0500-01-01 00:00:00\n",
      "    ATM_COARSE_DUST_FLUX_CPL   (time, region) float32 1.1949589 ... 1.5179054\n",
      "    ATM_FINE_DUST_FLUX_CPL     (time, region) float32 0.01748822 ... 0.021591991\n",
      "    ATM_BLACK_CARBON_FLUX_CPL  (time, region) float32 0.004455677 ... 0.004621468\n",
      "Attributes:\n",
      "    title:             b.e21.BW1850.f09_g17.CMIP6-piControl.001\n",
      "    history:           created by /gpfs/fs1/work/klindsay/analysis/CESM2_coup...\n",
      "    Conventions:       CF-1.0; http://www.cgd.ucar.edu/cms/eaton/netcdf/CF-cu...\n",
      "    time_period_freq:  month_1\n",
      "    model_doi_url:     https://doi.org/10.5065/D67H1H0V\n",
      "    contents:          Diagnostic and Prognostic Variables\n",
      "    source:            CCSM POP2, the CCSM Ocean Component\n",
      "    revision:          $Id: tavg.F90 89493 2018-07-16 16:11:22Z klindsay $\n",
      "    calendar:          All years have exactly  365 days.\n",
      "    start_time:        This dataset was created on 2018-07-21 at 17:26:37.3\n",
      "    cell_methods:      cell_methods = time: mean ==> the variable values are ...\n",
      "    input_file_list:   /glade/collections/cdg/timeseries-cmip6/b.e21.BW1850.f...\n",
      "<xarray.Dataset>\n",
      "Dimensions:                    (d2: 2, region: 4, time: 499)\n",
      "Coordinates:\n",
      "  * region                     (region) object 'Global' ... 'NH_mid_lat'\n",
      "  * time                       (time) object 0001-07-01 17:05:00 ... 0499-07-01 17:00:00\n",
      "Dimensions without coordinates: d2\n",
      "Data variables:\n",
      "    IRON_FLUX                  (time, region) float64 7.599 0.2147 ... 3.108\n",
      "    time_bound                 (d2, time) object 0001-01-01 01:59:59 ... 0500-01-01 00:00:00\n",
      "    ATM_COARSE_DUST_FLUX_CPL   (time, region) float64 1.227 0.0853 ... 1.798\n",
      "    ATM_FINE_DUST_FLUX_CPL     (time, region) float64 0.0186 ... 0.02541\n",
      "    ATM_BLACK_CARBON_FLUX_CPL  (time, region) float64 0.00283 ... 0.003779\n",
      "Attributes:\n",
      "    history:  \\n2019-06-04 15:21:11.262717 esmlab.resample(<DATASET>, freq=\"a...\n"
     ]
    }
   ],
   "source": [
    "experiment = 'piControl-waccm'\n",
    "ds_piControl_waccm = tseries_mod.tseries_get_vars(varnames, 'ocn', experiment)\n",
    "print(ds_piControl_waccm)\n",
    "ds_piControl_waccm_ann = esmlab_wrap.compute_ann_mean(ds_piControl_waccm)\n",
    "print(ds_piControl_waccm_ann)"
   ]
  },
  {
   "cell_type": "code",
   "execution_count": 5,
   "metadata": {},
   "outputs": [
    {
     "name": "stdout",
     "output_type": "stream",
     "text": [
      "<xarray.Dataset>\n",
      "Dimensions:                    (d2: 2, ensemble: 9, region: 4, time: 1980)\n",
      "Coordinates:\n",
      "  * time                       (time) object 1850-01-16 13:00:00 ... 2014-12-16 12:00:00\n",
      "  * region                     (region) object 'Global' ... 'NH_mid_lat'\n",
      "Dimensions without coordinates: d2, ensemble\n",
      "Data variables:\n",
      "    time_bound                 (time, d2) object 1850-01-01 02:00:00 ... 2015-01-01 00:00:00\n",
      "    IRON_FLUX                  (time, region, ensemble) float32 5.0446606 ... 1.9501983\n",
      "    ATM_COARSE_DUST_FLUX_CPL   (time, region, ensemble) float32 1.0332386 ... 0.92239916\n",
      "    ATM_FINE_DUST_FLUX_CPL     (time, region, ensemble) float32 0.014639973 ... 0.014110819\n",
      "    ATM_BLACK_CARBON_FLUX_CPL  (time, region, ensemble) float32 0.0044277865 ... 0.021176212\n",
      "Attributes:\n",
      "    title:             b.e21.BHIST.f09_g17.CMIP6-historical.001\n",
      "    history:           created by /gpfs/fs1/work/klindsay/analysis/CESM2_coup...\n",
      "    Conventions:       CF-1.0; http://www.cgd.ucar.edu/cms/eaton/netcdf/CF-cu...\n",
      "    time_period_freq:  month_1\n",
      "    model_doi_url:     https://doi.org/10.5065/D67H1H0V\n",
      "    contents:          Diagnostic and Prognostic Variables\n",
      "    source:            CCSM POP2, the CCSM Ocean Component\n",
      "    revision:          $Id: tavg.F90 89644 2018-08-04 14:26:01Z klindsay $\n",
      "    calendar:          All years have exactly  365 days.\n",
      "    start_time:        This dataset was created on 2018-10-03 at 12:59:45.7\n",
      "    cell_methods:      cell_methods = time: mean ==> the variable values are ...\n",
      "    input_file_list:   /glade/collections/cdg/timeseries-cmip6/b.e21.BHIST.f0...\n",
      "<xarray.Dataset>\n",
      "Dimensions:                    (d2: 2, ensemble: 9, region: 4, time: 165)\n",
      "Coordinates:\n",
      "  * region                     (region) object 'Global' ... 'NH_mid_lat'\n",
      "  * time                       (time) object 1850-07-01 17:05:00 ... 2014-07-01 17:00:00\n",
      "Dimensions without coordinates: d2, ensemble\n",
      "Data variables:\n",
      "    time_bound                 (d2, time) object 1850-01-01 02:00:00 ... 2015-01-01 00:00:00\n",
      "    IRON_FLUX                  (time, region, ensemble) float64 9.23 ... 2.719\n",
      "    ATM_COARSE_DUST_FLUX_CPL   (time, region, ensemble) float64 1.613 ... 1.334\n",
      "    ATM_FINE_DUST_FLUX_CPL     (time, region, ensemble) float64 0.02368 ... 0.01971\n",
      "    ATM_BLACK_CARBON_FLUX_CPL  (time, region, ensemble) float64 0.003014 ... 0.01674\n",
      "Attributes:\n",
      "    history:  \\n2019-06-04 15:21:21.474076 esmlab.resample(<DATASET>, freq=\"a...\n"
     ]
    }
   ],
   "source": [
    "experiment = 'historical'\n",
    "ds_historical = tseries_mod.tseries_get_vars(varnames, 'ocn', experiment)\n",
    "print(ds_historical)\n",
    "ds_historical_ann = esmlab_wrap.compute_ann_mean(ds_historical)\n",
    "print(ds_historical_ann)"
   ]
  },
  {
   "cell_type": "code",
   "execution_count": 6,
   "metadata": {},
   "outputs": [
    {
     "name": "stdout",
     "output_type": "stream",
     "text": [
      "<xarray.Dataset>\n",
      "Dimensions:                    (d2: 2, ensemble: 3, region: 4, time: 1980)\n",
      "Coordinates:\n",
      "  * time                       (time) object 1850-01-16 13:00:00 ... 2014-12-16 12:00:00\n",
      "  * region                     (region) object 'Global' ... 'NH_mid_lat'\n",
      "Dimensions without coordinates: d2, ensemble\n",
      "Data variables:\n",
      "    time_bound                 (time, d2) object 1850-01-01 02:00:00 ... 2015-01-01 00:00:00\n",
      "    IRON_FLUX                  (time, region, ensemble) float32 7.017702 ... 2.62661\n",
      "    ATM_COARSE_DUST_FLUX_CPL   (time, region, ensemble) float32 1.4449234 ... 1.2715267\n",
      "    ATM_FINE_DUST_FLUX_CPL     (time, region, ensemble) float32 0.021254966 ... 0.02024109\n",
      "    ATM_BLACK_CARBON_FLUX_CPL  (time, region, ensemble) float32 0.00441275 ... 0.022816302\n",
      "Attributes:\n",
      "    title:             b.e21.BWHIST.f09_g17.CMIP6-historical-WACCM.001\n",
      "    history:           created by /gpfs/fs1/work/klindsay/analysis/CESM2_coup...\n",
      "    Conventions:       CF-1.0; http://www.cgd.ucar.edu/cms/eaton/netcdf/CF-cu...\n",
      "    time_period_freq:  month_1\n",
      "    model_doi_url:     https://doi.org/10.5065/D67H1H0V\n",
      "    contents:          Diagnostic and Prognostic Variables\n",
      "    source:            CCSM POP2, the CCSM Ocean Component\n",
      "    revision:          $Id: tavg.F90 89644 2018-08-04 14:26:01Z klindsay $\n",
      "    calendar:          All years have exactly  365 days.\n",
      "    start_time:        This dataset was created on 2018-08-08 at 15:57:13.4\n",
      "    cell_methods:      cell_methods = time: mean ==> the variable values are ...\n",
      "    input_file_list:   /glade/collections/cdg/timeseries-cmip6/b.e21.BWHIST.f...\n",
      "<xarray.Dataset>\n",
      "Dimensions:                    (d2: 2, ensemble: 3, region: 4, time: 165)\n",
      "Coordinates:\n",
      "  * region                     (region) object 'Global' ... 'NH_mid_lat'\n",
      "  * time                       (time) object 1850-07-01 17:05:00 ... 2014-07-01 17:00:00\n",
      "Dimensions without coordinates: d2, ensemble\n",
      "Data variables:\n",
      "    time_bound                 (d2, time) object 1850-01-01 02:00:00 ... 2015-01-01 00:00:00\n",
      "    IRON_FLUX                  (time, region, ensemble) float64 7.483 ... 3.482\n",
      "    ATM_COARSE_DUST_FLUX_CPL   (time, region, ensemble) float64 1.343 ... 1.663\n",
      "    ATM_FINE_DUST_FLUX_CPL     (time, region, ensemble) float64 0.01979 ... 0.02455\n",
      "    ATM_BLACK_CARBON_FLUX_CPL  (time, region, ensemble) float64 0.002836 ... 0.01581\n",
      "Attributes:\n",
      "    history:  \\n2019-06-04 15:21:29.492789 esmlab.resample(<DATASET>, freq=\"a...\n"
     ]
    }
   ],
   "source": [
    "experiment = 'historical-waccm'\n",
    "ds_historical_waccm = tseries_mod.tseries_get_vars(varnames, 'ocn', experiment)\n",
    "print(ds_historical_waccm)\n",
    "ds_historical_waccm_ann = esmlab_wrap.compute_ann_mean(ds_historical_waccm)\n",
    "print(ds_historical_waccm_ann)"
   ]
  },
  {
   "cell_type": "code",
   "execution_count": 7,
   "metadata": {},
   "outputs": [
    {
     "name": "stdout",
     "output_type": "stream",
     "text": [
      "<xarray.Dataset>\n",
      "Dimensions:                    (d2: 2, region: 4, time: 744)\n",
      "Coordinates:\n",
      "  * time                       (time) object 0001-01-16 12:59:59 ... 0062-12-16 12:00:00\n",
      "  * region                     (region) object 'Global' ... 'NH_mid_lat'\n",
      "Dimensions without coordinates: d2\n",
      "Data variables:\n",
      "    IRON_FLUX                  (time, region) float32 4.764832 ... 1.8017389\n",
      "    time_bound                 (time, d2) object 0001-01-01 01:59:59 ... 0063-01-01 00:00:00\n",
      "    ATM_COARSE_DUST_FLUX_CPL   (time, region) float32 1.3383422 ... 1.1306517\n",
      "    ATM_FINE_DUST_FLUX_CPL     (time, region) float32 0.018919572 ... 0.017118828\n",
      "    ATM_BLACK_CARBON_FLUX_CPL  (time, region) float32 0.010587842 ... 0.01596904\n",
      "Attributes:\n",
      "    title:             g.e21.G1850ECOIAF.T62_g17.003\n",
      "    history:           created by /gpfs/fs1/work/klindsay/analysis/CESM2_coup...\n",
      "    Conventions:       CF-1.0; http://www.cgd.ucar.edu/cms/eaton/netcdf/CF-cu...\n",
      "    time_period_freq:  month_1\n",
      "    model_doi_url:     https://doi.org/10.5065/D67H1H0V\n",
      "    contents:          Diagnostic and Prognostic Variables\n",
      "    source:            CCSM POP2, the CCSM Ocean Component\n",
      "    revision:          $Id: tavg.F90 90507 2019-01-18 20:54:19Z altuntas@ucar...\n",
      "    calendar:          All years have exactly  365 days.\n",
      "    start_time:        This dataset was created on 2019-04-16 at 16:39:28.9\n",
      "    cell_methods:      cell_methods = time: mean ==> the variable values are ...\n",
      "    NCO:               netCDF Operators version 4.7.4 (http://nco.sf.net)\n",
      "    input_file_list:   /glade/scratch/mclong/archive/g.e21.G1850ECOIAF.T62_g1...\n",
      "<xarray.Dataset>\n",
      "Dimensions:                    (d2: 2, region: 4, time: 62)\n",
      "Coordinates:\n",
      "  * region                     (region) object 'Global' ... 'NH_mid_lat'\n",
      "  * time                       (time) object 0001-07-01 17:05:00 ... 0062-07-01 17:00:00\n",
      "Dimensions without coordinates: d2\n",
      "Data variables:\n",
      "    IRON_FLUX                  (time, region) float64 5.461 0.4725 ... 2.343\n",
      "    time_bound                 (d2, time) object 0001-01-01 01:59:59 ... 0063-01-01 00:00:00\n",
      "    ATM_COARSE_DUST_FLUX_CPL   (time, region) float64 1.353 0.363 ... 1.567\n",
      "    ATM_FINE_DUST_FLUX_CPL     (time, region) float64 0.01955 ... 0.0229\n",
      "    ATM_BLACK_CARBON_FLUX_CPL  (time, region) float64 0.00877 ... 0.01292\n",
      "Attributes:\n",
      "    history:  \\n2019-06-04 15:21:34.642979 esmlab.resample(<DATASET>, freq=\"a...\n"
     ]
    }
   ],
   "source": [
    "experiment = 'coreII'\n",
    "ds_coreII = tseries_mod.tseries_get_vars(varnames, 'ocn', experiment)\n",
    "print(ds_coreII)\n",
    "ds_coreII_ann = esmlab_wrap.compute_ann_mean(ds_coreII)\n",
    "print(ds_coreII_ann)"
   ]
  },
  {
   "cell_type": "code",
   "execution_count": null,
   "metadata": {},
   "outputs": [],
   "source": []
  }
 ],
 "metadata": {
  "kernelspec": {
   "display_name": "Python [conda env:analysis]",
   "language": "python",
   "name": "conda-env-analysis-py"
  },
  "language_info": {
   "codemirror_mode": {
    "name": "ipython",
    "version": 3
   },
   "file_extension": ".py",
   "mimetype": "text/x-python",
   "name": "python",
   "nbconvert_exporter": "python",
   "pygments_lexer": "ipython3",
   "version": "3.7.3"
  }
 },
 "nbformat": 4,
 "nbformat_minor": 2
}
