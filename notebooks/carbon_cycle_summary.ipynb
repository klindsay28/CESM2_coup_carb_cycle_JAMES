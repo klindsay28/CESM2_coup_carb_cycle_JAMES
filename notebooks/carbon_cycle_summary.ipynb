{
 "cells": [
  {
   "cell_type": "code",
   "execution_count": 1,
   "metadata": {},
   "outputs": [],
   "source": [
    "import matplotlib.pyplot as plt\n",
    "import numpy as np\n",
    "import xarray as xr\n",
    "import pandas as pd\n",
    "\n",
    "from src import data_catalog\n",
    "from src import tseries_mod\n",
    "from src.utils import time_year_plus_frac\n",
    "from src.utils_plot import plot_1var\n",
    "\n",
    "%matplotlib inline"
   ]
  },
  {
   "cell_type": "code",
   "execution_count": 2,
   "metadata": {},
   "outputs": [
    {
     "name": "stdout",
     "output_type": "stream",
     "text": [
      "active catalog: experiments\n"
     ]
    }
   ],
   "source": [
    "data_catalog.set_catalog('experiments')"
   ]
  },
  {
   "cell_type": "code",
   "execution_count": 3,
   "metadata": {},
   "outputs": [],
   "source": [
    "expr_dict = {\n",
    "    'historical': {'clim_yrs': np.array([1990, 2015])},\n",
    "    'esm-hist': {'clim_yrs': np.array([1990, 2015])},\n",
    "    'historical-cmip5': {'clim_yrs': np.array([1990, 2015]), 'ext_expr': 'rcp85-cmip5'},\n",
    "    'esm-hist-cmip5': {'clim_yrs': np.array([1990, 2015]), 'ext_expr': 'esm-rcp85-cmip5'},\n",
    "}\n",
    "\n",
    "cmip_var_metadata = {}\n",
    "var_repl_dict_cmip5 = {}\n",
    "var_repl_dict_non_cmip5 = {}\n",
    "\n",
    "component = 'lnd'\n",
    "\n",
    "cmip_var_metadata[component] = {\n",
    "    'cVeg': {'cesm_varname': 'TOTVEGC', 'fmt': '0.0f'},\n",
    "    'cCwd': {'cesm_varname': 'CWDC', 'fmt': '0.0f'},\n",
    "    'cLitter': {'cesm_varname': 'TOTLITC', 'fmt': '0.1f'},\n",
    "    'cSoil': {'cesm_varname': 'TOTSOMC', 'fmt': '0.0f'},\n",
    "    'cProduct': {'cesm_varname': 'TOTPRODC', 'fmt': '0.1f'},\n",
    "    'cLand': {'cesm_varname': 'TOTECOSYSC', 'fmt': '0.0f'},\n",
    "    'gpp': {'cesm_varname': 'GPP', 'fmt': '0.1f'},\n",
    "    'ra': {'cesm_varname': 'AR', 'fmt': '0.1f'},\n",
    "    'npp': {'cesm_varname': 'NPP', 'fmt': '0.1f'},\n",
    "    'rh': {'cesm_varname': 'HR', 'fmt': '0.1f'},\n",
    "    'fFire': {'cesm_varname': 'COL_FIRE_CLOSS', 'fmt': '0.1f'},\n",
    "    'nbp': {'cesm_varname': 'NBP', 'fmt': '0.2f'},\n",
    "}\n",
    "\n",
    "var_repl_dict_cmip5[component] = {}\n",
    "var_repl_dict_non_cmip5[component] = {'TOTPRODC': ['TOT_WOODPRODC', 'CROPPROD1C']}\n",
    "\n",
    "component = 'ocn'\n",
    "\n",
    "cmip_var_metadata[component] = {\n",
    "    'atmco2': {'cesm_varname': 'ATM_CO2', 'fmt': '0.1f'},\n",
    "    'intdic': {'cesm_varname': 'DIC_vertint', 'fmt': '0.0f'},\n",
    "    'fgco2': {'cesm_varname': 'FG_CO2', 'fmt': '0.2f'},\n",
    "    'intpp': {'cesm_varname': 'photoC_TOT_zint', 'fmt': '0.1f'},\n",
    "    'epc100': {'cesm_varname': 'POC_FLUX_100m', 'fmt': '0.2f'},\n",
    "    'epcalc100': {'cesm_varname': 'CaCO3_FLUX_100m', 'fmt': '0.3f'},\n",
    "}\n",
    "\n",
    "var_repl_dict_cmip5[component] = {'photoC_TOT_zint': ['photoC_diat_zint', 'photoC_sp_zint', 'photoC_diaz_zint']}\n",
    "var_repl_dict_non_cmip5[component] = {}"
   ]
  },
  {
   "cell_type": "code",
   "execution_count": 4,
   "metadata": {},
   "outputs": [],
   "source": [
    "def get_ds(cesm_varnames, var_repl_dict, component, expr):\n",
    "    cesm_varnames_tmp = cesm_varnames.copy()\n",
    "    for varname, repl_list in var_repl_dict.items():\n",
    "        cesm_varnames_tmp.remove(varname)\n",
    "        cesm_varnames_tmp.extend(repl_list)\n",
    "    ds = tseries_mod.tseries_get_vars(cesm_varnames_tmp, component, expr, freq='ann')\n",
    "    for varname, repl_list in var_repl_dict.items():\n",
    "        da_list = [ds[varname_repl] for varname_repl in repl_list]\n",
    "        ds[varname] = xr.concat(da_list, 'dim_tmp').sum('dim_tmp')\n",
    "\n",
    "    # extend ds with ext_expr, if specified\n",
    "    if expr in expr_dict and 'ext_expr' in expr_dict[expr]:\n",
    "        ext_expr = expr_dict[expr]['ext_expr']\n",
    "        ds_ext = get_ds(cesm_varnames, var_repl_dict, component, ext_expr)\n",
    "        df = data_catalog.find_in_index(experiment=ext_expr)\n",
    "        branch_year = df['parent_branch_year'].unique()[0]\n",
    "        # use ds up to branch_year, and ds_ext afterwards\n",
    "        # assume start year in ds_ext is the same as branch_year,\n",
    "        # so time in ds_ext does not need to be offset\n",
    "        ds = xr.concat([ds.sel(time=slice(None, f'{branch_year}-01-01')), ds_ext], 'time')\n",
    "\n",
    "    return ds"
   ]
  },
  {
   "cell_type": "code",
   "execution_count": 5,
   "metadata": {},
   "outputs": [],
   "source": [
    "def gen_ds_dict(component, cmip_var_metadata, var_repl_dict_cmip5, var_repl_dict_non_cmip5):\n",
    "    ds_dict = {}\n",
    "\n",
    "    cesm_varnames = [metadata['cesm_varname'] for metadata in cmip_var_metadata.values()]\n",
    "\n",
    "    for expr, expr_metadata in expr_dict.items():\n",
    "        print(f'expr={expr}')\n",
    "        var_repl_dict = var_repl_dict_cmip5 if 'cmip5' in expr else var_repl_dict_non_cmip5\n",
    "        ds = get_ds(cesm_varnames, var_repl_dict, component, expr)\n",
    "        t_expr = time_year_plus_frac(ds, 'time')\n",
    "\n",
    "        clim_yrs = expr_metadata['clim_yrs']\n",
    "        clim_slice = slice(f'{clim_yrs[0]:04d}-01-01', f'{clim_yrs[1]:04d}-01-01')\n",
    "        ds_clim = ds.sel(time=clim_slice).mean('time')\n",
    "\n",
    "        df = data_catalog.find_in_index(experiment=expr)\n",
    "\n",
    "        parent_expr = df['parent_experiment'].unique()[0]\n",
    "        print(f'parent_expr={parent_expr}')\n",
    "        ds_parent = get_ds(cesm_varnames, var_repl_dict, component, parent_expr)\n",
    "\n",
    "        # extract parent_branch_year values for each ensemble member from DataFrame\n",
    "\n",
    "        if 'ensemble' in ds.dims:\n",
    "            branch_years = np.zeros(ds.dims['ensemble'], dtype=np.int64)\n",
    "            for ensemble in range(ds.dims['ensemble']):\n",
    "                branch_years[ensemble] = df.loc[df['ensemble'] == ensemble]['parent_branch_year'].unique()[0]\n",
    "        else:\n",
    "            branch_years = df['parent_branch_year'].unique()[0]\n",
    "        print(f'branch_years={branch_years}')\n",
    "\n",
    "        parent_yr_del = 0\n",
    "\n",
    "        ds_anom = ds_clim.copy(deep=True)\n",
    "        for cesm_varname in cesm_varnames:\n",
    "            if 'ensemble' in ds.dims:\n",
    "                for ensemble in range(ds.dims['ensemble']):\n",
    "                    parent_yrs = clim_yrs - np.int(np.floor(t_expr[0])) + branch_years[ensemble]\n",
    "                    parent_yrs[0] -= parent_yr_del\n",
    "                    parent_yrs[1] += parent_yr_del\n",
    "                    parent_slice = slice(f'{parent_yrs[0]:04d}-01-01', f'{parent_yrs[1]:04d}-01-01')\n",
    "                    parent_vals = ds_parent[cesm_varname].sel(time=parent_slice).mean('time')\n",
    "                    ds_anom[cesm_varname].isel(ensemble=ensemble).values -= parent_vals\n",
    "            else:\n",
    "                parent_yrs = clim_yrs - np.int(np.floor(t_expr[0])) + branch_years\n",
    "                parent_yrs[0] -= parent_yr_del\n",
    "                parent_yrs[1] += parent_yr_del\n",
    "                parent_slice = slice(f'{parent_yrs[0]:04d}-01-01', f'{parent_yrs[1]:04d}-01-01')\n",
    "                parent_vals = ds_parent[cesm_varname].sel(time=parent_slice).mean('time')\n",
    "                ds_anom[cesm_varname].values -= parent_vals\n",
    "\n",
    "        ds_dict[expr] = ds\n",
    "        ds_dict[parent_expr] = ds_parent\n",
    "        ds_dict[parent_expr+'_clim'] = ds_parent.mean('time')\n",
    "        ds_dict[expr+'_clim'] = ds_clim\n",
    "        ds_dict[expr+'_anom'] = ds_anom\n",
    "\n",
    "    return ds_dict"
   ]
  },
  {
   "cell_type": "code",
   "execution_count": 6,
   "metadata": {},
   "outputs": [],
   "source": [
    "def add_var_metadata(cmip_var_metadata, ds_dict, attrnames):\n",
    "    # add variable metadata from generated ds_dict to cmip_var_metadata\n",
    "    # assumes that metadata is the same in all Datasets, and can be retrieved from first ds\n",
    "    ds0 = list(ds_dict.values())[0]\n",
    "    for metadata in cmip_var_metadata.values():\n",
    "        for attrname in attrnames:\n",
    "            metadata[attrname] = ds0[metadata['cesm_varname']].attrs[attrname]"
   ]
  },
  {
   "cell_type": "code",
   "execution_count": 7,
   "metadata": {},
   "outputs": [],
   "source": [
    "ds_dict = {}"
   ]
  },
  {
   "cell_type": "code",
   "execution_count": 8,
   "metadata": {},
   "outputs": [
    {
     "name": "stdout",
     "output_type": "stream",
     "text": [
      "expr=historical\n",
      "parent_expr=piControl\n",
      "branch_years=[601 631 661 501 691 721 751 781 811 841 871]\n",
      "expr=esm-hist\n",
      "parent_expr=esm-piControl\n",
      "branch_years=[ 51 151]\n",
      "expr=historical-cmip5\n",
      "parent_expr=piControl-cmip5\n",
      "branch_years=151\n",
      "expr=esm-hist-cmip5\n",
      "parent_expr=esm-piControl-cmip5\n",
      "branch_years=351\n"
     ]
    }
   ],
   "source": [
    "component = 'lnd'\n",
    "ds_dict[component] = gen_ds_dict(component, cmip_var_metadata[component], var_repl_dict_cmip5[component], var_repl_dict_non_cmip5[component])\n",
    "add_var_metadata(cmip_var_metadata[component], ds_dict[component], ['units'])"
   ]
  },
  {
   "cell_type": "code",
   "execution_count": 9,
   "metadata": {},
   "outputs": [
    {
     "name": "stdout",
     "output_type": "stream",
     "text": [
      "expr=historical\n"
     ]
    },
    {
     "ename": "MergeError",
     "evalue": "conflicting values for variable 'weight_sum' on objects to be combined. You can skip this check by specifying compat='override'.",
     "output_type": "error",
     "traceback": [
      "\u001b[0;31m---------------------------------------------------------------------------\u001b[0m",
      "\u001b[0;31mMergeError\u001b[0m                                Traceback (most recent call last)",
      "\u001b[0;32m<ipython-input-9-3e279cb9257b>\u001b[0m in \u001b[0;36m<module>\u001b[0;34m\u001b[0m\n\u001b[1;32m      1\u001b[0m \u001b[0mcomponent\u001b[0m \u001b[0;34m=\u001b[0m \u001b[0;34m'ocn'\u001b[0m\u001b[0;34m\u001b[0m\u001b[0;34m\u001b[0m\u001b[0m\n\u001b[0;32m----> 2\u001b[0;31m \u001b[0mds_dict\u001b[0m\u001b[0;34m[\u001b[0m\u001b[0mcomponent\u001b[0m\u001b[0;34m]\u001b[0m \u001b[0;34m=\u001b[0m \u001b[0mgen_ds_dict\u001b[0m\u001b[0;34m(\u001b[0m\u001b[0mcomponent\u001b[0m\u001b[0;34m,\u001b[0m \u001b[0mcmip_var_metadata\u001b[0m\u001b[0;34m[\u001b[0m\u001b[0mcomponent\u001b[0m\u001b[0;34m]\u001b[0m\u001b[0;34m,\u001b[0m \u001b[0mvar_repl_dict_cmip5\u001b[0m\u001b[0;34m[\u001b[0m\u001b[0mcomponent\u001b[0m\u001b[0;34m]\u001b[0m\u001b[0;34m,\u001b[0m \u001b[0mvar_repl_dict_non_cmip5\u001b[0m\u001b[0;34m[\u001b[0m\u001b[0mcomponent\u001b[0m\u001b[0;34m]\u001b[0m\u001b[0;34m)\u001b[0m\u001b[0;34m\u001b[0m\u001b[0;34m\u001b[0m\u001b[0m\n\u001b[0m\u001b[1;32m      3\u001b[0m \u001b[0madd_var_metadata\u001b[0m\u001b[0;34m(\u001b[0m\u001b[0mcmip_var_metadata\u001b[0m\u001b[0;34m[\u001b[0m\u001b[0mcomponent\u001b[0m\u001b[0;34m]\u001b[0m\u001b[0;34m,\u001b[0m \u001b[0mds_dict\u001b[0m\u001b[0;34m[\u001b[0m\u001b[0mcomponent\u001b[0m\u001b[0;34m]\u001b[0m\u001b[0;34m,\u001b[0m \u001b[0;34m[\u001b[0m\u001b[0;34m'units'\u001b[0m\u001b[0;34m]\u001b[0m\u001b[0;34m)\u001b[0m\u001b[0;34m\u001b[0m\u001b[0;34m\u001b[0m\u001b[0m\n",
      "\u001b[0;32m<ipython-input-5-200e270f2fc3>\u001b[0m in \u001b[0;36mgen_ds_dict\u001b[0;34m(component, cmip_var_metadata, var_repl_dict_cmip5, var_repl_dict_non_cmip5)\u001b[0m\n\u001b[1;32m      7\u001b[0m         \u001b[0mprint\u001b[0m\u001b[0;34m(\u001b[0m\u001b[0;34mf'expr={expr}'\u001b[0m\u001b[0;34m)\u001b[0m\u001b[0;34m\u001b[0m\u001b[0;34m\u001b[0m\u001b[0m\n\u001b[1;32m      8\u001b[0m         \u001b[0mvar_repl_dict\u001b[0m \u001b[0;34m=\u001b[0m \u001b[0mvar_repl_dict_cmip5\u001b[0m \u001b[0;32mif\u001b[0m \u001b[0;34m'cmip5'\u001b[0m \u001b[0;32min\u001b[0m \u001b[0mexpr\u001b[0m \u001b[0;32melse\u001b[0m \u001b[0mvar_repl_dict_non_cmip5\u001b[0m\u001b[0;34m\u001b[0m\u001b[0;34m\u001b[0m\u001b[0m\n\u001b[0;32m----> 9\u001b[0;31m         \u001b[0mds\u001b[0m \u001b[0;34m=\u001b[0m \u001b[0mget_ds\u001b[0m\u001b[0;34m(\u001b[0m\u001b[0mcesm_varnames\u001b[0m\u001b[0;34m,\u001b[0m \u001b[0mvar_repl_dict\u001b[0m\u001b[0;34m,\u001b[0m \u001b[0mcomponent\u001b[0m\u001b[0;34m,\u001b[0m \u001b[0mexpr\u001b[0m\u001b[0;34m)\u001b[0m\u001b[0;34m\u001b[0m\u001b[0;34m\u001b[0m\u001b[0m\n\u001b[0m\u001b[1;32m     10\u001b[0m         \u001b[0mt_expr\u001b[0m \u001b[0;34m=\u001b[0m \u001b[0mtime_year_plus_frac\u001b[0m\u001b[0;34m(\u001b[0m\u001b[0mds\u001b[0m\u001b[0;34m,\u001b[0m \u001b[0;34m'time'\u001b[0m\u001b[0;34m)\u001b[0m\u001b[0;34m\u001b[0m\u001b[0;34m\u001b[0m\u001b[0m\n\u001b[1;32m     11\u001b[0m \u001b[0;34m\u001b[0m\u001b[0m\n",
      "\u001b[0;32m<ipython-input-4-fce6da18575f>\u001b[0m in \u001b[0;36mget_ds\u001b[0;34m(cesm_varnames, var_repl_dict, component, expr)\u001b[0m\n\u001b[1;32m      4\u001b[0m         \u001b[0mcesm_varnames_tmp\u001b[0m\u001b[0;34m.\u001b[0m\u001b[0mremove\u001b[0m\u001b[0;34m(\u001b[0m\u001b[0mvarname\u001b[0m\u001b[0;34m)\u001b[0m\u001b[0;34m\u001b[0m\u001b[0;34m\u001b[0m\u001b[0m\n\u001b[1;32m      5\u001b[0m         \u001b[0mcesm_varnames_tmp\u001b[0m\u001b[0;34m.\u001b[0m\u001b[0mextend\u001b[0m\u001b[0;34m(\u001b[0m\u001b[0mrepl_list\u001b[0m\u001b[0;34m)\u001b[0m\u001b[0;34m\u001b[0m\u001b[0;34m\u001b[0m\u001b[0m\n\u001b[0;32m----> 6\u001b[0;31m     \u001b[0mds\u001b[0m \u001b[0;34m=\u001b[0m \u001b[0mtseries_mod\u001b[0m\u001b[0;34m.\u001b[0m\u001b[0mtseries_get_vars\u001b[0m\u001b[0;34m(\u001b[0m\u001b[0mcesm_varnames_tmp\u001b[0m\u001b[0;34m,\u001b[0m \u001b[0mcomponent\u001b[0m\u001b[0;34m,\u001b[0m \u001b[0mexpr\u001b[0m\u001b[0;34m,\u001b[0m \u001b[0mfreq\u001b[0m\u001b[0;34m=\u001b[0m\u001b[0;34m'ann'\u001b[0m\u001b[0;34m)\u001b[0m\u001b[0;34m\u001b[0m\u001b[0;34m\u001b[0m\u001b[0m\n\u001b[0m\u001b[1;32m      7\u001b[0m     \u001b[0;32mfor\u001b[0m \u001b[0mvarname\u001b[0m\u001b[0;34m,\u001b[0m \u001b[0mrepl_list\u001b[0m \u001b[0;32min\u001b[0m \u001b[0mvar_repl_dict\u001b[0m\u001b[0;34m.\u001b[0m\u001b[0mitems\u001b[0m\u001b[0;34m(\u001b[0m\u001b[0;34m)\u001b[0m\u001b[0;34m:\u001b[0m\u001b[0;34m\u001b[0m\u001b[0;34m\u001b[0m\u001b[0m\n\u001b[1;32m      8\u001b[0m         \u001b[0mda_list\u001b[0m \u001b[0;34m=\u001b[0m \u001b[0;34m[\u001b[0m\u001b[0mds\u001b[0m\u001b[0;34m[\u001b[0m\u001b[0mvarname_repl\u001b[0m\u001b[0;34m]\u001b[0m \u001b[0;32mfor\u001b[0m \u001b[0mvarname_repl\u001b[0m \u001b[0;32min\u001b[0m \u001b[0mrepl_list\u001b[0m\u001b[0;34m]\u001b[0m\u001b[0;34m\u001b[0m\u001b[0;34m\u001b[0m\u001b[0m\n",
      "\u001b[0;32m/glade/work/klindsay/analysis/CESM2_coup_carb_cycle_JAMES/src/tseries_mod.py\u001b[0m in \u001b[0;36mtseries_get_vars\u001b[0;34m(varnames, component, experiment, stream, freq, cache_dir, clobber, cluster_in)\u001b[0m\n\u001b[1;32m     60\u001b[0m \u001b[0;34m\u001b[0m\u001b[0m\n\u001b[1;32m     61\u001b[0m     ds = xr.merge([tseries_get_var(varname, component, experiment, stream_loc, freq, cache_dir, clobber, entries, cluster)\n\u001b[0;32m---> 62\u001b[0;31m                    for varname in varnames])\n\u001b[0m\u001b[1;32m     63\u001b[0m \u001b[0;34m\u001b[0m\u001b[0m\n\u001b[1;32m     64\u001b[0m     \u001b[0;31m# if cluster was instantiated here, close it\u001b[0m\u001b[0;34m\u001b[0m\u001b[0;34m\u001b[0m\u001b[0;34m\u001b[0m\u001b[0m\n",
      "\u001b[0;32m/glade/work/klindsay/miniconda3/envs/CESM2_coup_carb_cycle_JAMES/lib/python3.7/site-packages/xarray/core/merge.py\u001b[0m in \u001b[0;36mmerge\u001b[0;34m(objects, compat, join, fill_value)\u001b[0m\n\u001b[1;32m    791\u001b[0m         \u001b[0mdict_like_objects\u001b[0m\u001b[0;34m.\u001b[0m\u001b[0mappend\u001b[0m\u001b[0;34m(\u001b[0m\u001b[0mobj\u001b[0m\u001b[0;34m)\u001b[0m\u001b[0;34m\u001b[0m\u001b[0;34m\u001b[0m\u001b[0m\n\u001b[1;32m    792\u001b[0m \u001b[0;34m\u001b[0m\u001b[0m\n\u001b[0;32m--> 793\u001b[0;31m     \u001b[0mmerge_result\u001b[0m \u001b[0;34m=\u001b[0m \u001b[0mmerge_core\u001b[0m\u001b[0;34m(\u001b[0m\u001b[0mdict_like_objects\u001b[0m\u001b[0;34m,\u001b[0m \u001b[0mcompat\u001b[0m\u001b[0;34m,\u001b[0m \u001b[0mjoin\u001b[0m\u001b[0;34m,\u001b[0m \u001b[0mfill_value\u001b[0m\u001b[0;34m=\u001b[0m\u001b[0mfill_value\u001b[0m\u001b[0;34m)\u001b[0m\u001b[0;34m\u001b[0m\u001b[0;34m\u001b[0m\u001b[0m\n\u001b[0m\u001b[1;32m    794\u001b[0m     \u001b[0mmerged\u001b[0m \u001b[0;34m=\u001b[0m \u001b[0mDataset\u001b[0m\u001b[0;34m.\u001b[0m\u001b[0m_construct_direct\u001b[0m\u001b[0;34m(\u001b[0m\u001b[0;34m**\u001b[0m\u001b[0mmerge_result\u001b[0m\u001b[0;34m.\u001b[0m\u001b[0m_asdict\u001b[0m\u001b[0;34m(\u001b[0m\u001b[0;34m)\u001b[0m\u001b[0;34m)\u001b[0m\u001b[0;34m\u001b[0m\u001b[0;34m\u001b[0m\u001b[0m\n\u001b[1;32m    795\u001b[0m     \u001b[0;32mreturn\u001b[0m \u001b[0mmerged\u001b[0m\u001b[0;34m\u001b[0m\u001b[0;34m\u001b[0m\u001b[0m\n",
      "\u001b[0;32m/glade/work/klindsay/miniconda3/envs/CESM2_coup_carb_cycle_JAMES/lib/python3.7/site-packages/xarray/core/merge.py\u001b[0m in \u001b[0;36mmerge_core\u001b[0;34m(objects, compat, join, priority_arg, explicit_coords, indexes, fill_value)\u001b[0m\n\u001b[1;32m    553\u001b[0m \u001b[0;34m\u001b[0m\u001b[0m\n\u001b[1;32m    554\u001b[0m     \u001b[0mprioritized\u001b[0m \u001b[0;34m=\u001b[0m \u001b[0m_get_priority_vars_and_indexes\u001b[0m\u001b[0;34m(\u001b[0m\u001b[0maligned\u001b[0m\u001b[0;34m,\u001b[0m \u001b[0mpriority_arg\u001b[0m\u001b[0;34m,\u001b[0m \u001b[0mcompat\u001b[0m\u001b[0;34m=\u001b[0m\u001b[0mcompat\u001b[0m\u001b[0;34m)\u001b[0m\u001b[0;34m\u001b[0m\u001b[0;34m\u001b[0m\u001b[0m\n\u001b[0;32m--> 555\u001b[0;31m     \u001b[0mvariables\u001b[0m\u001b[0;34m,\u001b[0m \u001b[0mout_indexes\u001b[0m \u001b[0;34m=\u001b[0m \u001b[0mmerge_collected\u001b[0m\u001b[0;34m(\u001b[0m\u001b[0mcollected\u001b[0m\u001b[0;34m,\u001b[0m \u001b[0mprioritized\u001b[0m\u001b[0;34m,\u001b[0m \u001b[0mcompat\u001b[0m\u001b[0;34m=\u001b[0m\u001b[0mcompat\u001b[0m\u001b[0;34m)\u001b[0m\u001b[0;34m\u001b[0m\u001b[0;34m\u001b[0m\u001b[0m\n\u001b[0m\u001b[1;32m    556\u001b[0m     \u001b[0massert_unique_multiindex_level_names\u001b[0m\u001b[0;34m(\u001b[0m\u001b[0mvariables\u001b[0m\u001b[0;34m)\u001b[0m\u001b[0;34m\u001b[0m\u001b[0;34m\u001b[0m\u001b[0m\n\u001b[1;32m    557\u001b[0m \u001b[0;34m\u001b[0m\u001b[0m\n",
      "\u001b[0;32m/glade/work/klindsay/miniconda3/envs/CESM2_coup_carb_cycle_JAMES/lib/python3.7/site-packages/xarray/core/merge.py\u001b[0m in \u001b[0;36mmerge_collected\u001b[0;34m(grouped, prioritized, compat)\u001b[0m\n\u001b[1;32m    226\u001b[0m                 \u001b[0mvariables\u001b[0m \u001b[0;34m=\u001b[0m \u001b[0;34m[\u001b[0m\u001b[0mvariable\u001b[0m \u001b[0;32mfor\u001b[0m \u001b[0mvariable\u001b[0m\u001b[0;34m,\u001b[0m \u001b[0m_\u001b[0m \u001b[0;32min\u001b[0m \u001b[0melements_list\u001b[0m\u001b[0;34m]\u001b[0m\u001b[0;34m\u001b[0m\u001b[0;34m\u001b[0m\u001b[0m\n\u001b[1;32m    227\u001b[0m                 \u001b[0;32mtry\u001b[0m\u001b[0;34m:\u001b[0m\u001b[0;34m\u001b[0m\u001b[0;34m\u001b[0m\u001b[0m\n\u001b[0;32m--> 228\u001b[0;31m                     \u001b[0mmerged_vars\u001b[0m\u001b[0;34m[\u001b[0m\u001b[0mname\u001b[0m\u001b[0;34m]\u001b[0m \u001b[0;34m=\u001b[0m \u001b[0munique_variable\u001b[0m\u001b[0;34m(\u001b[0m\u001b[0mname\u001b[0m\u001b[0;34m,\u001b[0m \u001b[0mvariables\u001b[0m\u001b[0;34m,\u001b[0m \u001b[0mcompat\u001b[0m\u001b[0;34m)\u001b[0m\u001b[0;34m\u001b[0m\u001b[0;34m\u001b[0m\u001b[0m\n\u001b[0m\u001b[1;32m    229\u001b[0m                 \u001b[0;32mexcept\u001b[0m \u001b[0mMergeError\u001b[0m\u001b[0;34m:\u001b[0m\u001b[0;34m\u001b[0m\u001b[0;34m\u001b[0m\u001b[0m\n\u001b[1;32m    230\u001b[0m                     \u001b[0;32mif\u001b[0m \u001b[0mcompat\u001b[0m \u001b[0;34m!=\u001b[0m \u001b[0;34m\"minimal\"\u001b[0m\u001b[0;34m:\u001b[0m\u001b[0;34m\u001b[0m\u001b[0;34m\u001b[0m\u001b[0m\n",
      "\u001b[0;32m/glade/work/klindsay/miniconda3/envs/CESM2_coup_carb_cycle_JAMES/lib/python3.7/site-packages/xarray/core/merge.py\u001b[0m in \u001b[0;36munique_variable\u001b[0;34m(name, variables, compat, equals)\u001b[0m\n\u001b[1;32m    141\u001b[0m     \u001b[0;32mif\u001b[0m \u001b[0;32mnot\u001b[0m \u001b[0mequals\u001b[0m\u001b[0;34m:\u001b[0m\u001b[0;34m\u001b[0m\u001b[0;34m\u001b[0m\u001b[0m\n\u001b[1;32m    142\u001b[0m         raise MergeError(\n\u001b[0;32m--> 143\u001b[0;31m             \u001b[0;34mf\"conflicting values for variable {name!r} on objects to be combined. \"\u001b[0m\u001b[0;34m\u001b[0m\u001b[0;34m\u001b[0m\u001b[0m\n\u001b[0m\u001b[1;32m    144\u001b[0m             \u001b[0;34m\"You can skip this check by specifying compat='override'.\"\u001b[0m\u001b[0;34m\u001b[0m\u001b[0;34m\u001b[0m\u001b[0m\n\u001b[1;32m    145\u001b[0m         )\n",
      "\u001b[0;31mMergeError\u001b[0m: conflicting values for variable 'weight_sum' on objects to be combined. You can skip this check by specifying compat='override'."
     ]
    }
   ],
   "source": [
    "component = 'ocn'\n",
    "ds_dict[component] = gen_ds_dict(component, cmip_var_metadata[component], var_repl_dict_cmip5[component], var_repl_dict_non_cmip5[component])\n",
    "add_var_metadata(cmip_var_metadata[component], ds_dict[component], ['units'])"
   ]
  },
  {
   "cell_type": "code",
   "execution_count": null,
   "metadata": {},
   "outputs": [],
   "source": [
    "def print_table(cmip_var_metadata, ds_dict, table_dict):\n",
    "    val_dict = {}\n",
    "    val_dict['varname'] = list(cmip_var_metadata.keys())\n",
    "    val_dict['units'] = [metadata['units'] for metadata in cmip_var_metadata.values()]\n",
    "    for hdr, col_desc in table_dict.items():\n",
    "        ds = ds_dict[col_desc['expr']]\n",
    "        val_col = []\n",
    "        for metadata in cmip_var_metadata.values():\n",
    "            val = col_desc['reduce_fcn'](ds[metadata['cesm_varname']].sel(region='Global').values)\n",
    "            val_col.append(f'{val:{metadata[\"fmt\"]}}')\n",
    "        val_dict[hdr] = val_col\n",
    "    df = pd.DataFrame(val_dict)\n",
    "    df.columns = pd.MultiIndex.from_tuples([tuple(c.split('_')) if '_' in c else ('', c) for c in df.columns])\n",
    "    print(df.to_string(index=False))\n",
    "    return df"
   ]
  },
  {
   "cell_type": "code",
   "execution_count": null,
   "metadata": {},
   "outputs": [],
   "source": [
    "def print_tables(cmip_var_metadata, ds_dict):\n",
    "    table_dict = {\n",
    "        'CESM2_piControl': {'expr': 'piControl', 'reduce_fcn': np.mean},\n",
    "        'CESM2_esm-piControl': {'expr': 'esm-piControl', 'reduce_fcn': np.mean},\n",
    "        'CESM1(BGC)_piControl': {'expr': 'piControl-cmip5', 'reduce_fcn': np.mean},\n",
    "        'CESM1(BGC)_esm-piControl': {'expr': 'esm-piControl-cmip5', 'reduce_fcn': np.mean},\n",
    "    }\n",
    "    print_table(cmip_var_metadata, ds_dict, table_dict)\n",
    "\n",
    "    table_dict = {\n",
    "        'CESM2_historical': {'expr': 'historical_clim', 'reduce_fcn': np.mean},\n",
    "        'CESM2_std': {'expr': 'historical_clim', 'reduce_fcn': np.std},\n",
    "        'CESM2_anomaly': {'expr': 'historical_anom', 'reduce_fcn': np.mean},\n",
    "        'CESM2_anom-std': {'expr': 'historical_anom', 'reduce_fcn': np.std},\n",
    "        'CESM1(BGC)_historical': {'expr': 'historical-cmip5_clim', 'reduce_fcn': np.mean},\n",
    "        'CESM1(BGC)_anomaly': {'expr': 'historical-cmip5_anom', 'reduce_fcn': np.mean},\n",
    "    }\n",
    "    print_table(cmip_var_metadata, ds_dict, table_dict)\n",
    "\n",
    "    table_dict = {\n",
    "        'CESM2_esm-hist': {'expr': 'esm-hist_clim', 'reduce_fcn': np.mean},\n",
    "        'CESM2_std': {'expr': 'esm-hist_clim', 'reduce_fcn': np.std},\n",
    "        'CESM2_anomaly': {'expr': 'esm-hist_anom', 'reduce_fcn': np.mean},\n",
    "        'CESM2_anomaly-std': {'expr': 'esm-hist_anom', 'reduce_fcn': np.std},\n",
    "        'CESM1(BGC)_esm-hist': {'expr': 'esm-hist-cmip5_clim', 'reduce_fcn': np.mean},\n",
    "        'CESM1(BGC)_anomaly': {'expr': 'esm-hist-cmip5_anom', 'reduce_fcn': np.mean},\n",
    "    }\n",
    "    print_table(cmip_var_metadata, ds_dict, table_dict)\n",
    "\n",
    "    table_dict = {\n",
    "        'CESM2_esm-piControl': {'expr': 'esm-piControl', 'reduce_fcn': np.mean},\n",
    "        'CESM2_esm-hist': {'expr': 'esm-hist_clim', 'reduce_fcn': np.mean},\n",
    "        'CESM2_anomaly': {'expr': 'esm-hist_anom', 'reduce_fcn': np.mean},\n",
    "        'CESM1(BGC)_esm-piControl': {'expr': 'esm-piControl-cmip5', 'reduce_fcn': np.mean},\n",
    "        'CESM1(BGC)_esm-hist': {'expr': 'esm-hist-cmip5_clim', 'reduce_fcn': np.mean},\n",
    "        'CESM1(BGC)_anomaly': {'expr': 'esm-hist-cmip5_anom', 'reduce_fcn': np.mean},\n",
    "    }\n",
    "    df = print_table(cmip_var_metadata, ds_dict, table_dict)\n",
    "\n",
    "    ncolumns = df.shape[1]\n",
    "    column_format = 'lc' + (ncolumns-1)*'c'\n",
    "    latex = df.to_latex(index=False, column_format=column_format, multicolumn_format='c')\n",
    "    repl_dict = {\n",
    "        'toprule': 'hline',\n",
    "        'midrule': 'hline',\n",
    "        'bottomrule': 'hline',\n",
    "        'yr-1': 'yr$^{-1}$',\n",
    "        'Pg': 'Pg C',\n",
    "        '  & \\\\multicolumn': '  & & \\\\multicolumn'\n",
    "    }\n",
    "    for old, new in repl_dict.items():\n",
    "        latex = latex.replace(old, new)\n",
    "    print(latex)"
   ]
  },
  {
   "cell_type": "code",
   "execution_count": null,
   "metadata": {},
   "outputs": [],
   "source": [
    "component = 'lnd'\n",
    "print_tables(cmip_var_metadata[component], ds_dict[component])"
   ]
  },
  {
   "cell_type": "code",
   "execution_count": null,
   "metadata": {},
   "outputs": [],
   "source": [
    "component = 'ocn'\n",
    "print_tables(cmip_var_metadata[component], ds_dict[component])"
   ]
  },
  {
   "cell_type": "code",
   "execution_count": null,
   "metadata": {},
   "outputs": [],
   "source": [
    "def gen_tseries_plots(cmip_var_metadata, ds_dict):\n",
    "    expr = 'esm-piControl'\n",
    "    t_expr = time_year_plus_frac(ds_dict[expr], 'time')\n",
    "    year0 = np.floor(t_expr[0])\n",
    "    df = data_catalog.find_in_index(experiment=expr)\n",
    "    branch_year = df['parent_branch_year'].unique()[0]\n",
    "\n",
    "    for cmip_varname, metadata in cmip_var_metadata.items():\n",
    "        print(cmip_varname)\n",
    "        expr_list = ['piControl', 'esm-piControl']\n",
    "        plot_1var(metadata['cesm_varname'], [ds_dict[expr] for expr in expr_list], expr_list, region_val='Global',\n",
    "                  xoffsets=[0, branch_year-year0],\n",
    "                  yoffsets = [-427.0 if cmip_varname in ['cSoil', 'cLand'] else 0.0, 0.0])\n",
    "        plt.show()\n",
    "        expr_list = ['piControl-cmip5', 'esm-piControl-cmip5']\n",
    "        plot_1var(metadata['cesm_varname'], [ds_dict[expr] for expr in expr_list], expr_list, region_val='Global')\n",
    "        plt.show()"
   ]
  },
  {
   "cell_type": "code",
   "execution_count": null,
   "metadata": {},
   "outputs": [],
   "source": [
    "component = 'lnd'\n",
    "gen_tseries_plots(cmip_var_metadata[component], ds_dict[component])"
   ]
  },
  {
   "cell_type": "code",
   "execution_count": null,
   "metadata": {},
   "outputs": [],
   "source": [
    "component = 'ocn'\n",
    "gen_tseries_plots(cmip_var_metadata[component], ds_dict[component])"
   ]
  },
  {
   "cell_type": "code",
   "execution_count": null,
   "metadata": {},
   "outputs": [],
   "source": []
  }
 ],
 "metadata": {
  "kernelspec": {
   "display_name": "Python [conda env:CESM2_coup_carb_cycle_JAMES]",
   "language": "python",
   "name": "conda-env-CESM2_coup_carb_cycle_JAMES-py"
  },
  "language_info": {
   "codemirror_mode": {
    "name": "ipython",
    "version": 3
   },
   "file_extension": ".py",
   "mimetype": "text/x-python",
   "name": "python",
   "nbconvert_exporter": "python",
   "pygments_lexer": "ipython3",
   "version": "3.7.6"
  }
 },
 "nbformat": 4,
 "nbformat_minor": 4
}
